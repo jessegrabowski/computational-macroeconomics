{
 "cells": [
  {
   "cell_type": "code",
   "execution_count": 1,
   "id": "ef4f83cc",
   "metadata": {},
   "outputs": [],
   "source": [
    "import sympy as sp"
   ]
  },
  {
   "cell_type": "markdown",
   "id": "5f57c3d8",
   "metadata": {},
   "source": [
    "# Sympy\n",
    "\n",
    "The python equivalent of the symbolic math toolbox is `sympy`."
   ]
  },
  {
   "cell_type": "markdown",
   "id": "a7b86d31",
   "metadata": {},
   "source": [
    "## Creating Symbols"
   ]
  },
  {
   "cell_type": "markdown",
   "id": "39443962",
   "metadata": {},
   "source": [
    "### Question 1\n",
    "\n",
    "Compare a symbolic 1 / 3 to the floating point representation."
   ]
  },
  {
   "cell_type": "code",
   "execution_count": 2,
   "id": "1ca41ccc",
   "metadata": {},
   "outputs": [
    {
     "data": {
      "text/latex": [
       "$\\displaystyle \\frac{1}{3}$"
      ],
      "text/plain": [
       "1/3"
      ]
     },
     "execution_count": 2,
     "metadata": {},
     "output_type": "execute_result"
    }
   ],
   "source": [
    "third_symbol = sp.Rational(1, 3)\n",
    "third_symbol"
   ]
  },
  {
   "cell_type": "markdown",
   "id": "ac7911a8",
   "metadata": {},
   "source": [
    "We can see the difference in floating point precision by asking for 30 decimals of precision from each objects. The binary representation of 1/3 is accurate to about 17 places, while the symbolic representation has arbitrary accuracy."
   ]
  },
  {
   "cell_type": "code",
   "execution_count": 3,
   "id": "443fbfc6",
   "metadata": {},
   "outputs": [
    {
     "name": "stdout",
     "output_type": "stream",
     "text": [
      "Floating point arithmetic:\t 0.333333333333333314829616256247\n",
      "Symbolic arithmetic:\t\t 0.333333333333333333333333333333\n"
     ]
    }
   ],
   "source": [
    "print(f'Floating point arithmetic:\\t {1 / 3:<10.30f}')\n",
    "print(f'Symbolic arithmetic:\\t\\t {third_symbol.evalf(30)}')"
   ]
  },
  {
   "cell_type": "markdown",
   "id": "8d7e80a6",
   "metadata": {},
   "source": [
    "### Question 2\n",
    "\n",
    "Compute $sin(\\pi)$ symbolically and numerically.\n",
    "\n",
    "Using floating-point arithmetic, the result is equal to zero to 16 decimal places of accuracy. Using the symbolic computation, we get exactly 0."
   ]
  },
  {
   "cell_type": "code",
   "execution_count": 4,
   "id": "e3a1d370",
   "metadata": {},
   "outputs": [
    {
     "name": "stdout",
     "output_type": "stream",
     "text": [
      "Floating point arithmetic:\t 1.2246467991473532e-16\n",
      "Symbolic arithmetic:\t\t 0\n"
     ]
    }
   ],
   "source": [
    "import numpy as np\n",
    "print('Floating point arithmetic:\\t', np.sin(np.pi))\n",
    "print('Symbolic arithmetic:\\t\\t', sp.sin(sp.pi).evalf(16))"
   ]
  },
  {
   "cell_type": "markdown",
   "id": "1e4394f1",
   "metadata": {},
   "source": [
    "### Question 3\n",
    "\n",
    "Create multiple variables in one command. For sympy, this is `sp.symbols`"
   ]
  },
  {
   "cell_type": "code",
   "execution_count": 5,
   "id": "6c9e3ce5",
   "metadata": {},
   "outputs": [],
   "source": [
    "x, y, z = sp.symbols('x y z')"
   ]
  },
  {
   "cell_type": "markdown",
   "id": "19ff3a83",
   "metadata": {},
   "source": [
    "### Question 4\n",
    "Create 10 indexed variables, $a_1 \\dots a_{10}$ and save them in a vector `A`.\n",
    "\n",
    "We can use a list comprehension together with `sp.symbols` to get everything"
   ]
  },
  {
   "cell_type": "code",
   "execution_count": 6,
   "id": "76f4e160",
   "metadata": {},
   "outputs": [
    {
     "data": {
      "text/latex": [
       "$\\displaystyle \\left[\\begin{array}{cccccccccccccccccccc}a_{1} & a_{2} & a_{3} & a_{4} & a_{5} & a_{6} & a_{7} & a_{8} & a_{9} & a_{10} & a_{11} & a_{12} & a_{13} & a_{14} & a_{15} & a_{16} & a_{17} & a_{18} & a_{19} & a_{20}\\end{array}\\right]$"
      ],
      "text/plain": [
       "Matrix([[a_1, a_2, a_3, a_4, a_5, a_6, a_7, a_8, a_9, a_10, a_11, a_12, a_13, a_14, a_15, a_16, a_17, a_18, a_19, a_20]])"
      ]
     },
     "execution_count": 6,
     "metadata": {},
     "output_type": "execute_result"
    }
   ],
   "source": [
    "a_symbols = sp.symbols([f'a_{i}' for i in range(1, 21)])\n",
    "A = sp.Matrix(a_symbols).T\n",
    "A"
   ]
  },
  {
   "cell_type": "markdown",
   "id": "a30f7fee",
   "metadata": {},
   "source": [
    "### Question 5\n",
    "\n",
    "This question is unique to Matlab. We can create symbolic variables as needed using sp.symbols and tuple unpacking. Sometimes, though, we want to work with all the individual symbols and need them in the global namespace. For this we can use this following hack:"
   ]
  },
  {
   "cell_type": "code",
   "execution_count": 7,
   "id": "4bf46946",
   "metadata": {},
   "outputs": [],
   "source": [
    "# Jupyter stores all variables in a dictionary called globals,\n",
    "# with string keys and python object values.\n",
    "# We update this dictionary to include each individal element of a_symbols\n",
    "\n",
    "globals().update({var.name:var for var in a_symbols})"
   ]
  },
  {
   "cell_type": "code",
   "execution_count": 8,
   "id": "606e522c",
   "metadata": {},
   "outputs": [
    {
     "data": {
      "text/latex": [
       "$\\displaystyle a_{1} + a_{2} + a_{3}$"
      ],
      "text/plain": [
       "a_1 + a_2 + a_3"
      ]
     },
     "execution_count": 8,
     "metadata": {},
     "output_type": "execute_result"
    }
   ],
   "source": [
    "# Now we can directly compute with the a symbols\n",
    "a_1 + a_2 + a_3"
   ]
  },
  {
   "cell_type": "markdown",
   "id": "9e04cfd1",
   "metadata": {},
   "source": [
    "### Question 6\n",
    "\n",
    "Create a symbolic matrix"
   ]
  },
  {
   "cell_type": "code",
   "execution_count": 9,
   "id": "309959b1",
   "metadata": {},
   "outputs": [
    {
     "data": {
      "text/latex": [
       "$\\displaystyle \\left[\\begin{matrix}a & b & c\\\\c & a & b\\\\b & c & a\\end{matrix}\\right]$"
      ],
      "text/plain": [
       "Matrix([\n",
       "[a, b, c],\n",
       "[c, a, b],\n",
       "[b, c, a]])"
      ]
     },
     "execution_count": 9,
     "metadata": {},
     "output_type": "execute_result"
    }
   ],
   "source": [
    "a, b, c = sp.symbols('a b c')\n",
    "A = sp.Matrix([[a, b, c], [c, a, b], [b, c, a]])\n",
    "A"
   ]
  },
  {
   "cell_type": "markdown",
   "id": "ab91ffff",
   "metadata": {},
   "source": [
    "Check that the sum of the elements of the first row equations the sum of the elements of the second column"
   ]
  },
  {
   "cell_type": "code",
   "execution_count": 10,
   "id": "6ae5c097",
   "metadata": {},
   "outputs": [
    {
     "data": {
      "text/plain": [
       "True"
      ]
     },
     "execution_count": 10,
     "metadata": {},
     "output_type": "execute_result"
    }
   ],
   "source": [
    "sum(A[0, :]) == sum(A[:, 1])"
   ]
  },
  {
   "cell_type": "markdown",
   "id": "07d3d2b2",
   "metadata": {},
   "source": [
    "### Question 7\n",
    "\n",
    "Make a symbolic matrix with indices and shape, but no data."
   ]
  },
  {
   "cell_type": "code",
   "execution_count": 11,
   "id": "8b2ca2a8",
   "metadata": {},
   "outputs": [
    {
     "data": {
      "text/latex": [
       "$\\displaystyle {A}_{i,j}$"
      ],
      "text/plain": [
       "A[i, j]"
      ]
     },
     "execution_count": 11,
     "metadata": {},
     "output_type": "execute_result"
    }
   ],
   "source": [
    "A = sp.IndexedBase('A', shape=(2, 4))\n",
    "\n",
    "# sp.Idx is the special index symbol.\n",
    "i, j = sp.symbols('i j', cls=sp.Idx)\n",
    "\n",
    "A[i, j]"
   ]
  },
  {
   "cell_type": "markdown",
   "id": "1c848e16",
   "metadata": {},
   "source": [
    "The shape of a symbolic matrix can also be defined via symbols, in this case sp.Integer objects. The shapes are given to the index variables to define their range"
   ]
  },
  {
   "cell_type": "code",
   "execution_count": 12,
   "id": "1644163b",
   "metadata": {},
   "outputs": [],
   "source": [
    "n, m = sp.symbols('n m', integer=True)\n",
    "i, j = [sp.Idx(x, y) for x, y in zip(['i', 'j'], [n, m])]\n",
    "B = sp.IndexedBase('B', dims=(n, m))"
   ]
  },
  {
   "cell_type": "code",
   "execution_count": 13,
   "id": "02c5ef0e",
   "metadata": {},
   "outputs": [
    {
     "data": {
      "text/latex": [
       "$\\displaystyle {B}_{{i}_{0\\mathrel{..}\\nobreak n - 1},{j}_{0\\mathrel{..}\\nobreak m - 1}}$"
      ],
      "text/plain": [
       "B[i, j]"
      ]
     },
     "execution_count": 13,
     "metadata": {},
     "output_type": "execute_result"
    }
   ],
   "source": [
    "B[i, j]"
   ]
  },
  {
   "cell_type": "markdown",
   "id": "34b983fc",
   "metadata": {},
   "source": [
    "## Symbolic Computation"
   ]
  },
  {
   "cell_type": "markdown",
   "id": "8b6146a0",
   "metadata": {},
   "source": [
    "### Question 8\n",
    "\n",
    "Using `sp.solve`. All symbolic expressions are assumed to equal zero. If you give a symbolic expression to `sp.solve`, it will try to algebraically solve for the requested variables(s).\n",
    "\n",
    "The function returns a list of solutions. In the following example, there are two solutions for `x`, so it returns a list of two elements."
   ]
  },
  {
   "cell_type": "code",
   "execution_count": 14,
   "id": "86823492",
   "metadata": {},
   "outputs": [
    {
     "data": {
      "text/latex": [
       "$\\displaystyle \\frac{- b - \\sqrt{- 4 a c + b^{2}}}{2 a}$"
      ],
      "text/plain": [
       "(-b - sqrt(-4*a*c + b**2))/(2*a)"
      ]
     },
     "metadata": {},
     "output_type": "display_data"
    },
    {
     "data": {
      "text/latex": [
       "$\\displaystyle \\frac{- b + \\sqrt{- 4 a c + b^{2}}}{2 a}$"
      ],
      "text/plain": [
       "(-b + sqrt(-4*a*c + b**2))/(2*a)"
      ]
     },
     "metadata": {},
     "output_type": "display_data"
    }
   ],
   "source": [
    "a, b, c, x = sp.symbols('a b c x')\n",
    "f = a * x ** 2 + b * x + c\n",
    "for answer in sp.solve(f, x):\n",
    "    display(answer)"
   ]
  },
  {
   "cell_type": "markdown",
   "id": "d288972f",
   "metadata": {},
   "source": [
    "For the matlab `f == 2` notation, we can use an `sp.Eq` expression, or just subtract 2 (remember that everything is set equal to zero, so we'd be setting it equal to 2 then moving the 2 to the other side)"
   ]
  },
  {
   "cell_type": "code",
   "execution_count": 15,
   "id": "31255aec",
   "metadata": {},
   "outputs": [
    {
     "data": {
      "text/latex": [
       "$\\displaystyle \\frac{- b - \\sqrt{- 4 a c + 8 a + b^{2}}}{2 a}$"
      ],
      "text/plain": [
       "(-b - sqrt(-4*a*c + 8*a + b**2))/(2*a)"
      ]
     },
     "metadata": {},
     "output_type": "display_data"
    },
    {
     "data": {
      "text/latex": [
       "$\\displaystyle \\frac{- b + \\sqrt{- 4 a c + 8 a + b^{2}}}{2 a}$"
      ],
      "text/plain": [
       "(-b + sqrt(-4*a*c + 8*a + b**2))/(2*a)"
      ]
     },
     "metadata": {},
     "output_type": "display_data"
    }
   ],
   "source": [
    "for answer in sp.solve(sp.Eq(f, 2), x):\n",
    "    display(answer)"
   ]
  },
  {
   "cell_type": "markdown",
   "id": "64e4fa82",
   "metadata": {},
   "source": [
    "Unlike matlab, we can't define functions like `g(x) = a * x ** 2 + b * x +  c`. You can define abstract functions and do computation with them, though"
   ]
  },
  {
   "cell_type": "code",
   "execution_count": 16,
   "id": "4134f818",
   "metadata": {},
   "outputs": [
    {
     "data": {
      "text/latex": [
       "$\\displaystyle - a x^{2} - b x - c + g{\\left(x \\right)}$"
      ],
      "text/plain": [
       "-a*x**2 - b*x - c + g(x)"
      ]
     },
     "execution_count": 16,
     "metadata": {},
     "output_type": "execute_result"
    }
   ],
   "source": [
    "g = sp.Function('g')(x)\n",
    "g - f"
   ]
  },
  {
   "cell_type": "markdown",
   "id": "9a423fc4",
   "metadata": {},
   "source": [
    "### Question 9\n",
    "\n",
    "Differentiation is done with the `.diff` method on all sympy objects. Matrices also have a `.jacobian` method."
   ]
  },
  {
   "cell_type": "code",
   "execution_count": 17,
   "id": "7dc9f965",
   "metadata": {},
   "outputs": [
    {
     "data": {
      "text/latex": [
       "$\\displaystyle a x^{2} + b x + c$"
      ],
      "text/plain": [
       "a*x**2 + b*x + c"
      ]
     },
     "metadata": {},
     "output_type": "display_data"
    },
    {
     "data": {
      "text/latex": [
       "$\\displaystyle 2 a x + b$"
      ],
      "text/plain": [
       "2*a*x + b"
      ]
     },
     "metadata": {},
     "output_type": "display_data"
    },
    {
     "data": {
      "text/latex": [
       "$\\displaystyle x^{2}$"
      ],
      "text/plain": [
       "x**2"
      ]
     },
     "metadata": {},
     "output_type": "display_data"
    },
    {
     "data": {
      "text/latex": [
       "$\\displaystyle x$"
      ],
      "text/plain": [
       "x"
      ]
     },
     "metadata": {},
     "output_type": "display_data"
    },
    {
     "data": {
      "text/latex": [
       "$\\displaystyle 1$"
      ],
      "text/plain": [
       "1"
      ]
     },
     "metadata": {},
     "output_type": "display_data"
    },
    {
     "data": {
      "text/latex": [
       "$\\displaystyle 2 x$"
      ],
      "text/plain": [
       "2*x"
      ]
     },
     "metadata": {},
     "output_type": "display_data"
    },
    {
     "data": {
      "text/latex": [
       "$\\displaystyle \\left[\\begin{matrix}x^{2} & x & 1 & 2 a x + b\\end{matrix}\\right]$"
      ],
      "text/plain": [
       "Matrix([[x**2, x, 1, 2*a*x + b]])"
      ]
     },
     "metadata": {},
     "output_type": "display_data"
    },
    {
     "data": {
      "text/latex": [
       "$\\displaystyle \\left[\\begin{matrix}x^{2} & x & 1 & 2 a x + b\\end{matrix}\\right]$"
      ],
      "text/plain": [
       "Matrix([[x**2, x, 1, 2*a*x + b]])"
      ]
     },
     "metadata": {},
     "output_type": "display_data"
    }
   ],
   "source": [
    "f = a * x **2 + b * x + c\n",
    "display(f)\n",
    "# partial derivatives\n",
    "display(f.diff(x))\n",
    "display(f.diff(a))\n",
    "display(f.diff(b))\n",
    "display(f.diff(c))\n",
    "\n",
    "# higher order derivative \n",
    "display(f.diff(x, a))\n",
    "\n",
    "# jacobian\n",
    "display(sp.Matrix([f]).jacobian([a, b, c, x]))\n",
    "\n",
    "# We could also just use a list comprehension\n",
    "# (nested list to make a row vector)\n",
    "display(sp.Matrix([[f.diff(var) for var in [a, b, c, x]]]))"
   ]
  },
  {
   "cell_type": "markdown",
   "id": "bf334941",
   "metadata": {},
   "source": [
    "### Integration\n",
    "\n",
    "Integrate using `sp.int`"
   ]
  },
  {
   "cell_type": "code",
   "execution_count": 18,
   "id": "84c04f84",
   "metadata": {},
   "outputs": [
    {
     "data": {
      "text/latex": [
       "$\\displaystyle \\frac{a x^{3}}{3} + x^{2} \\left(\\frac{b}{2} + \\frac{c d}{2}\\right)$"
      ],
      "text/plain": [
       "a*x**3/3 + x**2*(b/2 + c*d/2)"
      ]
     },
     "execution_count": 18,
     "metadata": {},
     "output_type": "execute_result"
    }
   ],
   "source": [
    "a, b, c, d, x = sp.symbols('a b c d x')\n",
    "f = a *x ** 2 + b * x + c * d * x\n",
    "\n",
    "# by default it does indefinite integration\n",
    "sp.integrate(f, x)"
   ]
  },
  {
   "cell_type": "code",
   "execution_count": 19,
   "id": "6fd935d2",
   "metadata": {},
   "outputs": [
    {
     "data": {
      "text/latex": [
       "$\\displaystyle 3 a - \\frac{3 b}{2} - \\frac{3 c d}{2}$"
      ],
      "text/plain": [
       "3*a - 3*b/2 - 3*c*d/2"
      ]
     },
     "execution_count": 19,
     "metadata": {},
     "output_type": "execute_result"
    }
   ],
   "source": [
    "# for definite integration, pass a tuple of (integrand, a, b)\n",
    "sp.integrate(f, (x, -2, 1))"
   ]
  },
  {
   "cell_type": "markdown",
   "id": "23f48cca",
   "metadata": {},
   "source": [
    "## Symbolic Simplification"
   ]
  },
  {
   "cell_type": "markdown",
   "id": "9827ec26",
   "metadata": {},
   "source": [
    "### Question 11\n",
    "\n",
    "Simplify the following expression using the `.simplify` method"
   ]
  },
  {
   "cell_type": "code",
   "execution_count": 20,
   "id": "e9924fe9",
   "metadata": {},
   "outputs": [
    {
     "data": {
      "text/latex": [
       "$\\displaystyle - \\frac{3}{2} - \\frac{\\sqrt{5}}{2} + \\left(\\frac{1}{2} + \\frac{\\sqrt{5}}{2}\\right)^{2}$"
      ],
      "text/plain": [
       "-3/2 - sqrt(5)/2 + (1/2 + sqrt(5)/2)**2"
      ]
     },
     "execution_count": 20,
     "metadata": {},
     "output_type": "execute_result"
    }
   ],
   "source": [
    "phi = (1 + sp.sqrt(5)) / 2\n",
    "golden_ratio = phi ** 2 - phi - 1\n",
    "golden_ratio"
   ]
  },
  {
   "cell_type": "code",
   "execution_count": 21,
   "id": "8060c583",
   "metadata": {},
   "outputs": [
    {
     "data": {
      "text/latex": [
       "$\\displaystyle 0$"
      ],
      "text/plain": [
       "0"
      ]
     },
     "execution_count": 21,
     "metadata": {},
     "output_type": "execute_result"
    }
   ],
   "source": [
    "golden_ratio.simplify()"
   ]
  },
  {
   "cell_type": "markdown",
   "id": "4ccc7c9c",
   "metadata": {},
   "source": [
    "### Question 12\n",
    "\n",
    "Expand all terms using the `.expand` method"
   ]
  },
  {
   "cell_type": "code",
   "execution_count": 22,
   "id": "9bd5e65d",
   "metadata": {},
   "outputs": [
    {
     "data": {
      "text/latex": [
       "$\\displaystyle \\left(x^{2} - 1\\right) \\left(x^{4} - x^{3} + x^{2} - x + 1\\right) \\left(x^{4} + x^{3} + x^{2} + x + 1\\right)$"
      ],
      "text/plain": [
       "(x**2 - 1)*(x**4 - x**3 + x**2 - x + 1)*(x**4 + x**3 + x**2 + x + 1)"
      ]
     },
     "execution_count": 22,
     "metadata": {},
     "output_type": "execute_result"
    }
   ],
   "source": [
    "a = (x ** 2 - 1)\n",
    "b = (x ** 4 + x ** 3 + x ** 2 + x + 1)\n",
    "c = (x ** 4 - x ** 3 + x ** 2 - x + 1)\n",
    "f = a * b * c\n",
    "f"
   ]
  },
  {
   "cell_type": "code",
   "execution_count": 23,
   "id": "06bbe2be",
   "metadata": {},
   "outputs": [
    {
     "data": {
      "text/latex": [
       "$\\displaystyle x^{10} - 1$"
      ],
      "text/plain": [
       "x**10 - 1"
      ]
     },
     "execution_count": 23,
     "metadata": {},
     "output_type": "execute_result"
    }
   ],
   "source": [
    "f.expand()"
   ]
  },
  {
   "cell_type": "markdown",
   "id": "0dd358b6",
   "metadata": {},
   "source": [
    "Note that in this case, `.expand` and `.simplify` give the same results"
   ]
  },
  {
   "cell_type": "code",
   "execution_count": 24,
   "id": "65ab173a",
   "metadata": {},
   "outputs": [
    {
     "data": {
      "text/latex": [
       "$\\displaystyle x^{10} - 1$"
      ],
      "text/plain": [
       "x**10 - 1"
      ]
     },
     "execution_count": 24,
     "metadata": {},
     "output_type": "execute_result"
    }
   ],
   "source": [
    "f.simplify()"
   ]
  },
  {
   "cell_type": "markdown",
   "id": "8ce37597",
   "metadata": {},
   "source": [
    "### Question 13\n",
    "\n",
    "Use `.factor` to get polynomial roots"
   ]
  },
  {
   "cell_type": "code",
   "execution_count": 25,
   "id": "4b46021a",
   "metadata": {},
   "outputs": [
    {
     "data": {
      "text/latex": [
       "$\\displaystyle \\left(x + 1\\right) \\left(x + 2\\right) \\left(x + 3\\right)$"
      ],
      "text/plain": [
       "(x + 1)*(x + 2)*(x + 3)"
      ]
     },
     "execution_count": 25,
     "metadata": {},
     "output_type": "execute_result"
    }
   ],
   "source": [
    "g = x ** 3 + 6 *  x ** 2 + 11 * x + 6\n",
    "g.factor()"
   ]
  },
  {
   "cell_type": "markdown",
   "id": "a83fd9c1",
   "metadata": {},
   "source": [
    "### Question 14\n",
    "\n",
    "Get the Horner representation of a polynomial. This is a nested form, which is often efficient for numerical evaluation."
   ]
  },
  {
   "cell_type": "code",
   "execution_count": 26,
   "id": "347878f0",
   "metadata": {},
   "outputs": [
    {
     "data": {
      "text/latex": [
       "$\\displaystyle x^{5} + x^{4} + x^{3} + x^{2} + x$"
      ],
      "text/plain": [
       "x**5 + x**4 + x**3 + x**2 + x"
      ]
     },
     "execution_count": 26,
     "metadata": {},
     "output_type": "execute_result"
    }
   ],
   "source": [
    "h = x ** 5 + x ** 4 + x ** 3 + x ** 2 + x\n",
    "h"
   ]
  },
  {
   "cell_type": "code",
   "execution_count": 27,
   "id": "801f3a43",
   "metadata": {},
   "outputs": [
    {
     "data": {
      "text/latex": [
       "$\\displaystyle x \\left(x \\left(x \\left(x \\left(x + 1\\right) + 1\\right) + 1\\right) + 1\\right)$"
      ],
      "text/plain": [
       "x*(x*(x*(x*(x + 1) + 1) + 1) + 1)"
      ]
     },
     "execution_count": 27,
     "metadata": {},
     "output_type": "execute_result"
    }
   ],
   "source": [
    "sp.horner(h)"
   ]
  },
  {
   "cell_type": "markdown",
   "id": "fc51d83f",
   "metadata": {},
   "source": [
    "### Question 15\n",
    "\n",
    "Substitute one variable for another using the `.subs` method."
   ]
  },
  {
   "cell_type": "code",
   "execution_count": 28,
   "id": "bbcd6ed7",
   "metadata": {},
   "outputs": [
    {
     "data": {
      "text/latex": [
       "$\\displaystyle x^{2} \\log{\\left(y \\right)} + 5 x \\sqrt{y}$"
      ],
      "text/plain": [
       "x**2*log(y) + 5*x*sqrt(y)"
      ]
     },
     "execution_count": 28,
     "metadata": {},
     "output_type": "execute_result"
    }
   ],
   "source": [
    "y = sp.Symbol('y')\n",
    "f = x ** 2 * sp.log(y) + 5 * x * sp.sqrt(y)\n",
    "f"
   ]
  },
  {
   "cell_type": "code",
   "execution_count": 29,
   "id": "ba419a79",
   "metadata": {},
   "outputs": [
    {
     "data": {
      "text/latex": [
       "$\\displaystyle 15 \\sqrt{y} + 9 \\log{\\left(y \\right)}$"
      ],
      "text/plain": [
       "15*sqrt(y) + 9*log(y)"
      ]
     },
     "execution_count": 29,
     "metadata": {},
     "output_type": "execute_result"
    }
   ],
   "source": [
    "# Subs can take a dictionary of target-replacement key-value pairs\n",
    "# This method is NOT recursive, however.\n",
    "f.subs({x:3})"
   ]
  },
  {
   "cell_type": "code",
   "execution_count": 30,
   "id": "2baafc02",
   "metadata": {},
   "outputs": [
    {
     "data": {
      "text/latex": [
       "$\\displaystyle 5 y^{\\frac{3}{2}} + y^{2} \\log{\\left(y \\right)}$"
      ],
      "text/plain": [
       "5*y**(3/2) + y**2*log(y)"
      ]
     },
     "execution_count": 30,
     "metadata": {},
     "output_type": "execute_result"
    }
   ],
   "source": [
    "# You can also pass a list of tuples, of the form [(target, replacement)]\n",
    "# This *IS* recursive, because the subs are applied one at a time\n",
    "f.subs([(x, y)])"
   ]
  },
  {
   "cell_type": "markdown",
   "id": "e1d51f33",
   "metadata": {},
   "source": [
    "All sympy objects have a `subs` method, including Matrices"
   ]
  },
  {
   "cell_type": "code",
   "execution_count": 31,
   "id": "e535be3d",
   "metadata": {},
   "outputs": [
    {
     "data": {
      "text/latex": [
       "$\\displaystyle \\left[\\begin{matrix}a & b & c\\\\c & a & b\\\\c & b & a\\end{matrix}\\right]$"
      ],
      "text/plain": [
       "Matrix([\n",
       "[a, b, c],\n",
       "[c, a, b],\n",
       "[c, b, a]])"
      ]
     },
     "execution_count": 31,
     "metadata": {},
     "output_type": "execute_result"
    }
   ],
   "source": [
    "a, b, c, alpha, beta = sp.symbols('a b c alpha beta')\n",
    "A = sp.Matrix([[a, b, c], [c, a, b], [c, b, a]])\n",
    "A"
   ]
  },
  {
   "cell_type": "code",
   "execution_count": 32,
   "id": "0f6abf2b",
   "metadata": {},
   "outputs": [
    {
     "data": {
      "text/latex": [
       "$\\displaystyle \\left[\\begin{matrix}a & b & c\\\\\\beta & a & b\\\\c & b & a\\end{matrix}\\right]$"
      ],
      "text/plain": [
       "Matrix([\n",
       "[   a, b, c],\n",
       "[beta, a, b],\n",
       "[   c, b, a]])"
      ]
     },
     "execution_count": 32,
     "metadata": {},
     "output_type": "execute_result"
    }
   ],
   "source": [
    "# Direct assignment -- remember python is zero indexed!\n",
    "A[1, 0] = beta\n",
    "A"
   ]
  },
  {
   "cell_type": "code",
   "execution_count": 33,
   "id": "c86a5f1f",
   "metadata": {},
   "outputs": [
    {
     "data": {
      "text/latex": [
       "$\\displaystyle \\left[\\begin{matrix}a & \\alpha & c\\\\\\beta & a & \\alpha\\\\c & \\alpha & a\\end{matrix}\\right]$"
      ],
      "text/plain": [
       "Matrix([\n",
       "[   a, alpha,     c],\n",
       "[beta,     a, alpha],\n",
       "[   c, alpha,     a]])"
      ]
     },
     "metadata": {},
     "output_type": "display_data"
    },
    {
     "data": {
      "text/latex": [
       "$\\displaystyle \\left[\\begin{matrix}a & b & c\\\\\\beta & a & b\\\\c & b & a\\end{matrix}\\right]$"
      ],
      "text/plain": [
       "Matrix([\n",
       "[   a, b, c],\n",
       "[beta, a, b],\n",
       "[   c, b, a]])"
      ]
     },
     "metadata": {},
     "output_type": "display_data"
    }
   ],
   "source": [
    "# By default subs are *NOT* done in-place!\n",
    "display(A.subs({b:alpha}))\n",
    "display(A)"
   ]
  },
  {
   "cell_type": "code",
   "execution_count": 34,
   "id": "08f625f2",
   "metadata": {},
   "outputs": [
    {
     "data": {
      "text/latex": [
       "$\\displaystyle \\left[\\begin{matrix}a & \\alpha & c\\\\\\beta & a & \\alpha\\\\c & \\alpha & a\\end{matrix}\\right]$"
      ],
      "text/plain": [
       "Matrix([\n",
       "[   a, alpha,     c],\n",
       "[beta,     a, alpha],\n",
       "[   c, alpha,     a]])"
      ]
     },
     "execution_count": 34,
     "metadata": {},
     "output_type": "execute_result"
    }
   ],
   "source": [
    "# Sub and save the result\n",
    "B = A.subs({b:alpha})\n",
    "B"
   ]
  },
  {
   "cell_type": "markdown",
   "id": "784445e9",
   "metadata": {},
   "source": [
    "### Printing expressions to code\n",
    "\n",
    "Sympy offers a very powerful library of code writers, allowing compilation of symbolic expressions to many programming languages, including python, C, Rust, Julia, R, and Octave. It also supports popular computational backend packages, including Tensorflow, Pytorch, and Aesara (formerly Theano)"
   ]
  },
  {
   "cell_type": "code",
   "execution_count": 35,
   "id": "03a8c72d",
   "metadata": {},
   "outputs": [
    {
     "data": {
      "text/latex": [
       "$\\displaystyle \\left[\\begin{matrix}\\frac{\\alpha x^{\\alpha} \\log{\\left(y \\right)}}{x} + \\beta \\sqrt{y} & \\frac{\\beta x}{2 \\sqrt{y}} + \\frac{x^{\\alpha}}{y}\\\\2 x + \\frac{3 \\beta y \\sqrt{x^{3}}}{4 \\alpha x} & -1 + \\frac{\\beta \\sqrt{x^{3}}}{2 \\alpha}\\\\\\frac{\\alpha x^{\\alpha}}{x} + \\beta & 0\\\\0 & \\frac{\\beta}{2 \\sqrt{y}} + \\frac{1}{y}\\end{matrix}\\right]$"
      ],
      "text/plain": [
       "Matrix([\n",
       "[alpha*x**alpha*log(y)/x + beta*sqrt(y), beta*x/(2*sqrt(y)) + x**alpha/y],\n",
       "[ 2*x + 3*beta*y*sqrt(x**3)/(4*alpha*x),  -1 + beta*sqrt(x**3)/(2*alpha)],\n",
       "[               alpha*x**alpha/x + beta,                               0],\n",
       "[                                     0,          beta/(2*sqrt(y)) + 1/y]])"
      ]
     },
     "execution_count": 35,
     "metadata": {},
     "output_type": "execute_result"
    }
   ],
   "source": [
    "variables = sp.symbols('x y')\n",
    "params = sp.symbols('alpha beta')\n",
    "eq1 = x ** alpha * sp.log(y) + beta * x * sp.sqrt(y)\n",
    "eq2 = x ** 2 - y + beta / alpha * sp.sqrt(x ** 3) * (y / 2)\n",
    "eq3 = x ** alpha + beta * x\n",
    "eq4 = sp.log(y) + beta * sp.sqrt(y)\n",
    "F = sp.Matrix([eq1, eq2, eq3, eq4])\n",
    "F_jac = F.jacobian([x ,y])\n",
    "F_jac"
   ]
  },
  {
   "cell_type": "markdown",
   "id": "35b552cf",
   "metadata": {},
   "source": [
    "For basic python, we just call `sp.lambdify`. By default, it compiles to vectorized numpy code."
   ]
  },
  {
   "cell_type": "code",
   "execution_count": 36,
   "id": "52a16ae5",
   "metadata": {},
   "outputs": [],
   "source": [
    "f_jac_np = sp.lambdify(variables + params, F_jac)"
   ]
  },
  {
   "cell_type": "code",
   "execution_count": 37,
   "id": "cd7d165a",
   "metadata": {},
   "outputs": [
    {
     "data": {
      "text/plain": [
       "array([[ 1.52377763,  1.779149  ],\n",
       "       [13.87295822,  6.87295822],\n",
       "       [ 1.15806754,  0.        ],\n",
       "       [ 0.        ,  0.85355339]])"
      ]
     },
     "execution_count": 37,
     "metadata": {},
     "output_type": "execute_result"
    }
   ],
   "source": [
    "f_jac_np(x = 3, y = 2, alpha=0.33, beta = 1)"
   ]
  },
  {
   "cell_type": "markdown",
   "id": "4af0ea49",
   "metadata": {},
   "source": [
    "If we wanted to hop into matlab, we could use a code printer, in this case for Octave"
   ]
  },
  {
   "cell_type": "code",
   "execution_count": 38,
   "id": "efc4d533",
   "metadata": {},
   "outputs": [
    {
     "name": "stdout",
     "output_type": "stream",
     "text": [
      "df = [alpha.*x.^alpha.*log(y)./x + beta.*sqrt(y) beta.*x./(2*sqrt(y)) + x.^alpha./y; 2*x + 3*beta.*y.*sqrt(x.^3)./(4*alpha.*x) -1 + beta.*sqrt(x.^3)./(2*alpha); alpha.*x.^alpha./x + beta 0; 0 beta./(2*sqrt(y)) + 1./y];\n"
     ]
    }
   ],
   "source": [
    "octave_code = sp.printing.octave.octave_code(F_jac, assign_to='df')\n",
    "# octave_code = octave_code\n",
    "print(octave_code)"
   ]
  },
  {
   "cell_type": "markdown",
   "id": "4183bdff",
   "metadata": {},
   "source": [
    "### Question 18\n",
    "\n",
    "Compare the performance of `lambify` and `subs`"
   ]
  },
  {
   "cell_type": "code",
   "execution_count": 39,
   "id": "076e6f0a",
   "metadata": {},
   "outputs": [
    {
     "name": "stdout",
     "output_type": "stream",
     "text": [
      "7.11 µs ± 64.6 ns per loop (mean ± std. dev. of 7 runs, 100,000 loops each)\n"
     ]
    }
   ],
   "source": [
    "with np.errstate(all='ignore'):\n",
    "    t_np = %timeit -o f_jac_np(*np.random.normal(size=2), *np.random.uniform(size=2))"
   ]
  },
  {
   "cell_type": "code",
   "execution_count": 40,
   "id": "17d3a478",
   "metadata": {},
   "outputs": [
    {
     "name": "stdout",
     "output_type": "stream",
     "text": [
      "6.94 ms ± 193 µs per loop (mean ± std. dev. of 7 runs, 100 loops each)\n"
     ]
    }
   ],
   "source": [
    "def make_random_sub_dict():\n",
    "    xy = np.random.normal(size=2)\n",
    "    ab = np.random.uniform(size=2)\n",
    "    args = np.r_[xy, ab]\n",
    "    return dict(zip([x, y, alpha, beta], args))\n",
    "t_sp = %timeit -o F_jac.subs(make_random_sub_dict())"
   ]
  },
  {
   "cell_type": "markdown",
   "id": "1ad61475",
   "metadata": {},
   "source": [
    "We can go even faster by `jit` compiling `f_jac_np`"
   ]
  },
  {
   "cell_type": "code",
   "execution_count": 41,
   "id": "696ff514",
   "metadata": {},
   "outputs": [],
   "source": [
    "import numba as nb\n",
    "f_jac_jit = nb.njit(f_jac_np)\n",
    "\n",
    "# Run it once to trigger the compilation\n",
    "f_jac_jit(*np.random.normal(size=2), *np.random.uniform(size=2));"
   ]
  },
  {
   "cell_type": "code",
   "execution_count": 42,
   "id": "888f0021",
   "metadata": {},
   "outputs": [
    {
     "name": "stdout",
     "output_type": "stream",
     "text": [
      "3.31 µs ± 29.2 ns per loop (mean ± std. dev. of 7 runs, 100,000 loops each)\n"
     ]
    }
   ],
   "source": [
    "t_jit = %timeit -o f_jac_jit(*np.random.normal(size=2), *np.random.uniform(size=2))"
   ]
  },
  {
   "cell_type": "markdown",
   "id": "e838d6ad",
   "metadata": {},
   "source": [
    "## Speed Test Results\n",
    "To the surprise of nobody, substitution is the slowest, and JIT-compilation is the fastest."
   ]
  },
  {
   "cell_type": "code",
   "execution_count": 43,
   "id": "cc3d8927",
   "metadata": {},
   "outputs": [
    {
     "name": "stdout",
     "output_type": "stream",
     "text": [
      "Package   Time (ms)   Speedup over Sympy\n",
      "----------------------------------------\n",
      "Sympy     6.93574     1.00x\n",
      "Numpy     0.00711     975.40x\n",
      "Numba     0.00331     2093.33x\n"
     ]
    }
   ],
   "source": [
    "print(f'{\"Package\":<10}{\"Time (ms)\":<12}{\"Speedup over Sympy\"}')\n",
    "print('-'*40)\n",
    "for name, time in zip(['Sympy', 'Numpy', 'Numba'], [t_sp, t_np, t_jit]):\n",
    "    print(f'{name:<10}{time.average * 1000:<12.5f}{t_sp.average / time.average:0.2f}x')"
   ]
  }
 ],
 "metadata": {
  "kernelspec": {
   "display_name": "Python 3 (ipykernel)",
   "language": "python",
   "name": "python3"
  },
  "language_info": {
   "codemirror_mode": {
    "name": "ipython",
    "version": 3
   },
   "file_extension": ".py",
   "mimetype": "text/x-python",
   "name": "python",
   "nbconvert_exporter": "python",
   "pygments_lexer": "ipython3",
   "version": "3.10.10"
  },
  "toc": {
   "base_numbering": 1,
   "nav_menu": {},
   "number_sections": true,
   "sideBar": true,
   "skip_h1_title": false,
   "title_cell": "Table of Contents",
   "title_sidebar": "Contents",
   "toc_cell": false,
   "toc_position": {},
   "toc_section_display": true,
   "toc_window_display": false
  }
 },
 "nbformat": 4,
 "nbformat_minor": 5
}
