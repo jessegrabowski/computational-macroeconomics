{
 "cells": [
  {
   "cell_type": "code",
   "execution_count": 49,
   "id": "94d27fc2",
   "metadata": {},
   "outputs": [],
   "source": [
    "import sympy as sp\n",
    "from gEconpy.classes.time_aware_symbol import TimeAwareSymbol\n",
    "import numpy as np"
   ]
  },
  {
   "cell_type": "code",
   "execution_count": 62,
   "id": "6ce5eb05",
   "metadata": {},
   "outputs": [],
   "source": [
    "endo_names = ['Y', 'C', 'K', 'N', 'A', 'r' , 'w', 'I']\n",
    "exo_names = ['epsilon']\n",
    "param_names = ['beta', 'delta', 'gamma', 'psi', 'alpha', 'rho', 'A_bar']\n",
    "\n",
    "endo_names_nbr = len(endo_names)\n",
    "exo_names_nbr = len(exo_names)\n",
    "param_names_nbr = len(param_names)\n",
    "\n",
    "endo_vars = [Y, C, K, N, A, r, w, I] = list(map(lambda name: TimeAwareSymbol(name, 0), endo_names))\n",
    "exo_vars = [epsilon] = list(map(lambda name: TimeAwareSymbol(name, 0), exo_names))\n",
    "\n",
    "def process_name(s):\n",
    "    if s.endswith('_bar'):\n",
    "        return r'\\bar{' + s.replace('_bar', '') + '}'\n",
    "    return s\n",
    "\n",
    "beta, delta, gamma, psi, alpha, rho, A_bar = list(map(lambda name: sp.Symbol(process_name(name)), param_names))"
   ]
  },
  {
   "cell_type": "code",
   "execution_count": 64,
   "id": "bca1cfd9",
   "metadata": {},
   "outputs": [],
   "source": [
    "dynamic_eqs = [\n",
    "    gamma / C - gamma * beta * C.set_t(1) * (1 - delta - r.set_t(1)),\n",
    "    w - psi * C / gamma / (1 - N),\n",
    "    K - (1 - delta) * K.set_t(-1) - I,\n",
    "    Y - C - I,\n",
    "    Y - A * K.set_t(-1) ** alpha * N ** (1 - alpha),\n",
    "    w - (1 - alpha) * Y / N,\n",
    "    r - alpha * Y / N,\n",
    "    sp.log(A) - (1 - rho) * A_bar + rho * sp.log(A.set_t(-1)) - epsilon\n",
    "]\n",
    "\n",
    "n_eqs = len(dynamic_eqs)"
   ]
  },
  {
   "cell_type": "code",
   "execution_count": 111,
   "id": "602639d7",
   "metadata": {},
   "outputs": [],
   "source": [
    "def latex_print_system(system):\n",
    "    from IPython.display import display, Math\n",
    "\n",
    "    latex = '\\\\begin{align}'\n",
    "    latex += '\\\\\\\\'.join([sp.printing.latex(eq) for eq in system])\n",
    "    latex += '\\\\end{align}'\n",
    "    display(Math(latex))"
   ]
  },
  {
   "cell_type": "code",
   "execution_count": 112,
   "id": "ab26369b",
   "metadata": {},
   "outputs": [
    {
     "data": {
      "text/latex": [
       "$\\displaystyle \\begin{align}- \\beta \\gamma C_{t+1} \\left(- \\delta - r_{t+1} + 1\\right) + \\frac{\\gamma}{C_{t}}\\\\w_{t} - \\frac{\\psi C_{t}}{\\gamma \\left(1 - N_{t}\\right)}\\\\- I_{t} + K_{t} - K_{t-1} \\cdot \\left(1 - \\delta\\right)\\\\- C_{t} - I_{t} + Y_{t}\\\\- A_{t} K_{t-1}^{\\alpha} N_{t}^{1 - \\alpha} + Y_{t}\\\\w_{t} - \\frac{Y_{t} \\left(1 - \\alpha\\right)}{N_{t}}\\\\- \\frac{\\alpha Y_{t}}{N_{t}} + r_{t}\\\\- \\bar{A} \\left(1 - \\rho\\right) + \\rho \\log{\\left(A_{t-1} \\right)} - \\epsilon_{t} + \\log{\\left(A_{t} \\right)}\\end{align}$"
      ],
      "text/plain": [
       "<IPython.core.display.Math object>"
      ]
     },
     "metadata": {},
     "output_type": "display_data"
    }
   ],
   "source": [
    "latex_print_system(dynamic_eqs)"
   ]
  },
  {
   "cell_type": "code",
   "execution_count": 97,
   "id": "94f961c7",
   "metadata": {},
   "outputs": [],
   "source": [
    "from functools import reduce\n",
    "all_symbols = reduce(lambda l,r: l.union(r),\n",
    "                     [set(eq.atoms()) for eq in dynamic_eqs])\n",
    "all_symbols = [x for x in all_symbols if isinstance(x, TimeAwareSymbol)]\n",
    "lag_lead_incidence = np.zeros((3, endo_names_nbr))\n",
    "\n",
    "for i, var in enumerate(endo_vars):\n",
    "    time_vec = np.array([var.set_t(t) in all_symbols for t in [-1, 0, 1]])\n",
    "    lag_lead_incidence[:, i] = time_vec\n",
    "\n",
    "has_past, has_present, has_future = lag_lead_incidence.astype(bool)\n",
    "lag_lead_incidence[np.where(lag_lead_incidence)] = np.arange(lag_lead_incidence.sum())"
   ]
  },
  {
   "cell_type": "code",
   "execution_count": 102,
   "id": "9606d094",
   "metadata": {},
   "outputs": [
    {
     "name": "stdout",
     "output_type": "stream",
     "text": [
      "Static variables: Y, N, w, I\n",
      "Predetermined variables: K, A\n",
      "Forward variables: C, r\n",
      "Mixed variables: \n"
     ]
    }
   ],
   "source": [
    "static_vars = np.array(endo_vars)[has_present & (~has_past) & (~has_future)]\n",
    "predet_vars = np.array(endo_vars)[has_past & (~has_future)]\n",
    "forward_vars = np.array(endo_vars)[(~has_past) & has_future]\n",
    "mixed_vars = np.array(endo_vars)[has_past & has_future]\n",
    "\n",
    "groups = [static_vars, predet_vars, forward_vars, mixed_vars]\n",
    "names = ['static', 'predetermined', 'forward', 'mixed']\n",
    "\n",
    "for group, name in zip(groups, names):\n",
    "    print(f'{name.title()} variables: {\", \".join([x.base_name for x in group])}')"
   ]
  },
  {
   "cell_type": "code",
   "execution_count": 108,
   "id": "21316d4d",
   "metadata": {},
   "outputs": [
    {
     "data": {
      "text/plain": [
       "[Y_t, C_t, K_t, N_t, A_t, r_t, w_t, I_t]"
      ]
     },
     "execution_count": 108,
     "metadata": {},
     "output_type": "execute_result"
    }
   ],
   "source": [
    "endo_vars"
   ]
  },
  {
   "cell_type": "code",
   "execution_count": 116,
   "id": "dfd19558",
   "metadata": {},
   "outputs": [
    {
     "data": {
      "text/latex": [
       "$\\displaystyle \\left[\\begin{matrix}0 & - \\frac{\\gamma}{C_{t}^{2}} & 0 & 0 & 0 & 0 & 0 & 0\\\\0 & - \\frac{\\psi}{\\gamma \\left(1 - N_{t}\\right)} & 0 & - \\frac{\\psi C_{t}}{\\gamma \\left(1 - N_{t}\\right)^{2}} & 0 & 0 & 1 & 0\\\\0 & 0 & 1 & 0 & 0 & 0 & 0 & -1\\\\1 & -1 & 0 & 0 & 0 & 0 & 0 & -1\\\\1 & 0 & 0 & - \\frac{A_{t} K_{t-1}^{\\alpha} N_{t}^{1 - \\alpha} \\left(1 - \\alpha\\right)}{N_{t}} & - K_{t-1}^{\\alpha} N_{t}^{1 - \\alpha} & 0 & 0 & 0\\\\- \\frac{1 - \\alpha}{N_{t}} & 0 & 0 & \\frac{Y_{t} \\left(1 - \\alpha\\right)}{N_{t}^{2}} & 0 & 0 & 1 & 0\\\\- \\frac{\\alpha}{N_{t}} & 0 & 0 & \\frac{\\alpha Y_{t}}{N_{t}^{2}} & 0 & 1 & 0 & 0\\\\0 & 0 & 0 & 0 & \\frac{1}{A_{t}} & 0 & 0 & 0\\end{matrix}\\right]$"
      ],
      "text/plain": [
       "Matrix([\n",
       "[               0,          -gamma/C_t**2, 0,                                                  0,                              0, 0, 0,  0],\n",
       "[               0, -psi/(gamma*(1 - N_t)), 0,                      -psi*C_t/(gamma*(1 - N_t)**2),                              0, 0, 1,  0],\n",
       "[               0,                      0, 1,                                                  0,                              0, 0, 0, -1],\n",
       "[               1,                     -1, 0,                                                  0,                              0, 0, 0, -1],\n",
       "[               1,                      0, 0, -A_t*K_t-1**alpha*N_t**(1 - alpha)*(1 - alpha)/N_t, -K_t-1**alpha*N_t**(1 - alpha), 0, 0,  0],\n",
       "[-(1 - alpha)/N_t,                      0, 0,                             Y_t*(1 - alpha)/N_t**2,                              0, 0, 1,  0],\n",
       "[      -alpha/N_t,                      0, 0,                                   alpha*Y_t/N_t**2,                              0, 1, 0,  0],\n",
       "[               0,                      0, 0,                                                  0,                          1/A_t, 0, 0,  0]])"
      ]
     },
     "execution_count": 116,
     "metadata": {},
     "output_type": "execute_result"
    }
   ],
   "source": [
    "sp.Matrix(dynamic_eqs).jacobian(endo_vars)"
   ]
  },
  {
   "cell_type": "code",
   "execution_count": 114,
   "id": "e66b6799",
   "metadata": {},
   "outputs": [
    {
     "data": {
      "text/latex": [
       "$\\displaystyle \\begin{align}- \\beta \\gamma C_{ss} \\left(- \\delta - r_{ss} + 1\\right) + \\frac{\\gamma}{C_{ss}}\\\\w_{ss} - \\frac{\\psi C_{ss}}{\\gamma \\left(1 - N_{ss}\\right)}\\\\- I_{ss} - K_{ss} \\left(1 - \\delta\\right) + K_{ss}\\\\- C_{ss} - I_{ss} + Y_{ss}\\\\- A_{ss} K_{ss}^{\\alpha} N_{ss}^{1 - \\alpha} + Y_{ss}\\\\w_{ss} - \\frac{Y_{ss} \\left(1 - \\alpha\\right)}{N_{ss}}\\\\- \\frac{\\alpha Y_{ss}}{N_{ss}} + r_{ss}\\\\- \\bar{A} \\left(1 - \\rho\\right) + \\rho \\log{\\left(A_{ss} \\right)} - \\epsilon_{ss} + \\log{\\left(A_{ss} \\right)}\\end{align}$"
      ],
      "text/plain": [
       "<IPython.core.display.Math object>"
      ]
     },
     "metadata": {},
     "output_type": "display_data"
    }
   ],
   "source": [
    "from gEconpy.shared.utilities import eq_to_ss\n",
    "static_system = [eq_to_ss(eq) for eq in dynamic_eqs]\n",
    "latex_print_system(static_system)"
   ]
  },
  {
   "cell_type": "code",
   "execution_count": 115,
   "id": "66e24194",
   "metadata": {},
   "outputs": [
    {
     "data": {
      "text/latex": [
       "$\\displaystyle \\left[\\begin{matrix}0 & - \\beta \\gamma \\left(- \\delta - r_{ss} + 1\\right) - \\frac{\\gamma}{C_{ss}^{2}} & 0 & 0 & 0 & \\beta \\gamma C_{ss} & 0 & 0\\\\0 & - \\frac{\\psi}{\\gamma \\left(1 - N_{ss}\\right)} & 0 & - \\frac{\\psi C_{ss}}{\\gamma \\left(1 - N_{ss}\\right)^{2}} & 0 & 0 & 1 & 0\\\\0 & 0 & \\delta & 0 & 0 & 0 & 0 & -1\\\\1 & -1 & 0 & 0 & 0 & 0 & 0 & -1\\\\1 & 0 & - \\frac{\\alpha A_{ss} K_{ss}^{\\alpha} N_{ss}^{1 - \\alpha}}{K_{ss}} & - \\frac{A_{ss} K_{ss}^{\\alpha} N_{ss}^{1 - \\alpha} \\left(1 - \\alpha\\right)}{N_{ss}} & - K_{ss}^{\\alpha} N_{ss}^{1 - \\alpha} & 0 & 0 & 0\\\\- \\frac{1 - \\alpha}{N_{ss}} & 0 & 0 & \\frac{Y_{ss} \\left(1 - \\alpha\\right)}{N_{ss}^{2}} & 0 & 0 & 1 & 0\\\\- \\frac{\\alpha}{N_{ss}} & 0 & 0 & \\frac{\\alpha Y_{ss}}{N_{ss}^{2}} & 0 & 1 & 0 & 0\\\\0 & 0 & 0 & 0 & \\frac{\\rho}{A_{ss}} + \\frac{1}{A_{ss}} & 0 & 0 & 0\\end{matrix}\\right]$"
      ],
      "text/plain": [
       "Matrix([\n",
       "[                0, -beta*gamma*(-delta - r_ss + 1) - gamma/C_ss**2,                                              0,                                                    0,                              0, beta*gamma*C_ss, 0,  0],\n",
       "[                0,                         -psi/(gamma*(1 - N_ss)),                                              0,                      -psi*C_ss/(gamma*(1 - N_ss)**2),                              0,               0, 1,  0],\n",
       "[                0,                                               0,                                          delta,                                                    0,                              0,               0, 0, -1],\n",
       "[                1,                                              -1,                                              0,                                                    0,                              0,               0, 0, -1],\n",
       "[                1,                                               0, -alpha*A_ss*K_ss**alpha*N_ss**(1 - alpha)/K_ss, -A_ss*K_ss**alpha*N_ss**(1 - alpha)*(1 - alpha)/N_ss, -K_ss**alpha*N_ss**(1 - alpha),               0, 0,  0],\n",
       "[-(1 - alpha)/N_ss,                                               0,                                              0,                             Y_ss*(1 - alpha)/N_ss**2,                              0,               0, 1,  0],\n",
       "[      -alpha/N_ss,                                               0,                                              0,                                   alpha*Y_ss/N_ss**2,                              0,               1, 0,  0],\n",
       "[                0,                                               0,                                              0,                                                    0,              rho/A_ss + 1/A_ss,               0, 0,  0]])"
      ]
     },
     "execution_count": 115,
     "metadata": {},
     "output_type": "execute_result"
    }
   ],
   "source": [
    "sp.Matrix(static_system).jacobian([x.to_ss() for x in endo_vars])"
   ]
  },
  {
   "cell_type": "code",
   "execution_count": null,
   "id": "1d76fa36",
   "metadata": {},
   "outputs": [],
   "source": []
  }
 ],
 "metadata": {
  "kernelspec": {
   "display_name": "Python 3 (ipykernel)",
   "language": "python",
   "name": "python3"
  },
  "language_info": {
   "codemirror_mode": {
    "name": "ipython",
    "version": 3
   },
   "file_extension": ".py",
   "mimetype": "text/x-python",
   "name": "python",
   "nbconvert_exporter": "python",
   "pygments_lexer": "ipython3",
   "version": "3.9.16"
  },
  "toc": {
   "base_numbering": 1,
   "nav_menu": {},
   "number_sections": true,
   "sideBar": true,
   "skip_h1_title": false,
   "title_cell": "Table of Contents",
   "title_sidebar": "Contents",
   "toc_cell": false,
   "toc_position": {},
   "toc_section_display": true,
   "toc_window_display": false
  }
 },
 "nbformat": 4,
 "nbformat_minor": 5
}
