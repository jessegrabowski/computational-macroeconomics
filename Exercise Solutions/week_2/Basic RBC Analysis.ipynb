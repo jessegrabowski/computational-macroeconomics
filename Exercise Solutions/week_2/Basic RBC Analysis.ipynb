{
 "cells": [
  {
   "cell_type": "code",
   "execution_count": 148,
   "id": "ede81338",
   "metadata": {},
   "outputs": [],
   "source": [
    "import gEconpy as ge\n",
    "import gEconpy.plotting as gp"
   ]
  },
  {
   "cell_type": "markdown",
   "id": "0507bf56",
   "metadata": {},
   "source": [
    "# gEconpy preliminaries"
   ]
  },
  {
   "cell_type": "markdown",
   "id": "3ba30bba",
   "metadata": {},
   "source": [
    "## GCN file\n",
    "\n",
    "I've already written the model into a GCN file and saved it. Here is the file."
   ]
  },
  {
   "cell_type": "code",
   "execution_count": 149,
   "id": "965d76db",
   "metadata": {},
   "outputs": [
    {
     "name": "stdout",
     "output_type": "stream",
     "text": [
      "assumptions\n",
      "{\n",
      "\tpositive\n",
      "\t{\n",
      "\t\tK[], A[], mc[], r[], w[], Y[], alpha;\n",
      "\t};\n",
      "};\n",
      "\n",
      "block HOUSEHOLD\n",
      "{\n",
      "\tdefinitions\n",
      "\t{\n",
      "\t\tu[] = gamma * log(C[]) + psi * log(L[]);\n",
      "\t};\n",
      "\n",
      "\tobjective\n",
      "\t{\n",
      "\t\tU[] = u[] + beta * E[][U[1]];\n",
      "\t};\n",
      "\n",
      "\tcontrols\n",
      "\t{\n",
      "\t\tC[], I[], K[], L[], N[];\n",
      "\t};\n",
      "\n",
      "\tconstraints\n",
      "\t{\n",
      "\t\tC[] + I[] = w[] * N[] + r[] * K[-1] + Div[] : lambda[];\n",
      "\t\tN[] + L[] = 1;\n",
      "\t\tK[] = (1 - delta) * K[-1] + I[];\n",
      "\t};\n",
      "\n",
      "\tcalibration\n",
      "\t{\n",
      "\t\tbeta = 0.98;\n",
      "\t\tdelta = 0.035;\n",
      "\t\tgamma = 1;\n",
      "\t\tN[ss] = 0.33 -> psi;\n",
      "\t};\n",
      "};\n",
      "\n",
      "block FIRM\n",
      "{\n",
      "\tobjective\n",
      "\t{\n",
      "\t\tTC[] = -(w[] * N[] + r[] * K[-1]);\n",
      "\t};\n",
      "\n",
      "\tcontrols\n",
      "\t{\n",
      "\t\tN[], K[-1];\n",
      "\t};\n",
      "\n",
      "\tconstraints\n",
      "\t{\n",
      "\t\tY[] = A[] * K[-1] ^ alpha * N[] ^ (1 - alpha): mc[];\n",
      "\t};\n",
      "\n",
      "\tidentities\n",
      "\t{\n",
      "\t\tmc[] = 1;\n",
      "\t\tDiv[] = Y[] + TC[];\n",
      "\t};\n",
      "\t\n",
      "\tcalibration\n",
      "\t{\n",
      "\t\talpha = 0.33;\n",
      "\t};\n",
      "};\n",
      "\n",
      "block EXOGENOUS\n",
      "{\n",
      "\tidentities\n",
      "\t{\n",
      "\t\tlog(A[]) = rho * log(A[-1]) + epsilon[];\n",
      "\t};\n",
      "\n",
      "\tshocks\n",
      "\t{\n",
      "\t\tepsilon[];\n",
      "\t};\n",
      "\n",
      "\tcalibration\n",
      "\t{\n",
      "\t\trho = 0.95;\n",
      "\t};\n",
      "};\n",
      "\n"
     ]
    }
   ],
   "source": [
    "with open('rbc.gcn', 'r') as file:\n",
    "    print(file.read())"
   ]
  },
  {
   "cell_type": "markdown",
   "id": "9560ce6c",
   "metadata": {},
   "source": [
    "## Load the model\n",
    "\n",
    "To better see how things work under the hood, I am disabling automatic symbolic simplification. This is never actually recommended."
   ]
  },
  {
   "cell_type": "code",
   "execution_count": 150,
   "id": "9c9d50e6",
   "metadata": {},
   "outputs": [
    {
     "name": "stdout",
     "output_type": "stream",
     "text": [
      "Model Building Complete.\n",
      "Found:\n",
      "\t16 equations\n",
      "\t16 variables\n",
      "\t1 stochastic shock\n",
      "\t\t 0 / 1 has a defined prior. \n",
      "\t5 parameter\n",
      "\t\t 0 / 5 has a defined prior. \n",
      "\t1 calibrating equation\n",
      "\t1 parameter to calibrate\n",
      " Model appears well defined and ready to proceed to solving.\n",
      "\n"
     ]
    }
   ],
   "source": [
    "mod = ge.gEconModel('rbc.gcn', \n",
    "                    simplify_tryreduce=False, \n",
    "                    simplify_blocks=False,\n",
    "                    simplify_constants=False)"
   ]
  },
  {
   "cell_type": "markdown",
   "id": "fa32e8d3",
   "metadata": {},
   "source": [
    "# Questions"
   ]
  },
  {
   "cell_type": "markdown",
   "id": "9ce8c220",
   "metadata": {},
   "source": [
    "## Household First Order Conditions\n",
    "\n",
    "gEconpy derives first order conditions automatically. We can access these block-by-block by looking into the `mod.blocks` property. The first 3 equations are the model constraints, then the objective, then the derivatives of the block lagrangian, in the order they were entered by the user."
   ]
  },
  {
   "cell_type": "code",
   "execution_count": 151,
   "id": "9032a404",
   "metadata": {},
   "outputs": [
    {
     "data": {
      "text/latex": [
       "$\\displaystyle \\frac{d}{d C_{t}} \\mathcal L = \\frac{\\gamma}{C_{t}} - \\lambda_{t}$"
      ],
      "text/plain": [
       "Eq(Derivative(\\mathcal L, C_t), gamma/C_t - lambda_t)"
      ]
     },
     "metadata": {},
     "output_type": "display_data"
    },
    {
     "data": {
      "text/latex": [
       "$\\displaystyle \\frac{d}{d I_{t}} \\mathcal L = \\lambda^{H}_{2 t} - \\lambda_{t}$"
      ],
      "text/plain": [
       "Eq(Derivative(\\mathcal L, I_t), lambda__H_2_t - lambda_t)"
      ]
     },
     "metadata": {},
     "output_type": "display_data"
    },
    {
     "data": {
      "text/latex": [
       "$\\displaystyle \\frac{d}{d K_{t}} \\mathcal L = \\beta \\left(- \\lambda^{H}_{2 t+1} \\left(\\delta - 1\\right) + \\lambda_{t+1} r_{t+1}\\right) - \\lambda^{H}_{2 t}$"
      ],
      "text/plain": [
       "Eq(Derivative(\\mathcal L, K_t), beta*(-lambda__H_2_t+1*(delta - 1) + lambda_t+1*r_t+1) - lambda__H_2_t)"
      ]
     },
     "metadata": {},
     "output_type": "display_data"
    },
    {
     "data": {
      "text/latex": [
       "$\\displaystyle \\frac{d}{d L_{t}} \\mathcal L = \\frac{\\psi}{L_{t}} - \\lambda^{H}_{1 t}$"
      ],
      "text/plain": [
       "Eq(Derivative(\\mathcal L, L_t), psi/L_t - lambda__H_1_t)"
      ]
     },
     "metadata": {},
     "output_type": "display_data"
    },
    {
     "data": {
      "text/latex": [
       "$\\displaystyle \\frac{d}{d N_{t}} \\mathcal L = - \\lambda^{H}_{1 t} + \\lambda_{t} w_{t}$"
      ],
      "text/plain": [
       "Eq(Derivative(\\mathcal L, N_t), -lambda__H_1_t + lambda_t*w_t)"
      ]
     },
     "metadata": {},
     "output_type": "display_data"
    }
   ],
   "source": [
    "import sympy as sp\n",
    "L = sp.Symbol('\\mathcal L')\n",
    "household_controls = mod.blocks['HOUSEHOLD'].controls\n",
    "household_equations = mod.blocks['HOUSEHOLD'].system_equations\n",
    "for control, eq in zip(household_controls, household_equations[-len(household_controls):]):\n",
    "    display(sp.Eq(sp.diff(L, control, evaluate=False), eq))"
   ]
  },
  {
   "cell_type": "code",
   "execution_count": 152,
   "id": "a4f7181a",
   "metadata": {},
   "outputs": [],
   "source": [
    "dL_dC, dL_dI, dL_dK, dL_dL, dL_dN = household_equations[4:]"
   ]
  },
  {
   "cell_type": "markdown",
   "id": "3e378767",
   "metadata": {},
   "source": [
    "To get the desired equations, we need to do a bit of manipulation. This is easy to do because all of these expressions are sympy expressions, allowing for fast symbolic solving/substitution. \n",
    "\n",
    "First, we need to add the model variables to the notebook global namespace so we can refer to them."
   ]
  },
  {
   "cell_type": "code",
   "execution_count": 153,
   "id": "b46d1cfd",
   "metadata": {},
   "outputs": [],
   "source": [
    "all_vars = [v for x in mod.variables for v in [x.step_backward(), x, x.step_forward(), x.to_ss()]]\n",
    "var_dict = {}\n",
    "for x in all_vars:\n",
    "    var_dict[x.safe_name] = x\n",
    "for x in mod.free_param_dict.to_sympy().keys():\n",
    "    var_dict[x.name] = x\n",
    "    \n",
    "globals().update(var_dict)"
   ]
  },
  {
   "cell_type": "markdown",
   "id": "8e855e34",
   "metadata": {},
   "source": [
    "### Euler Equation"
   ]
  },
  {
   "cell_type": "code",
   "execution_count": 154,
   "id": "2f7c487d",
   "metadata": {},
   "outputs": [],
   "source": [
    "from gEconpy.shared.utilities import step_equation_forward, step_equation_backward, eq_to_ss\n",
    "lam = sp.solve(dL_dC, lambda_t)[0]\n",
    "lam2 = sp.solve(dL_dI.subs({lambda_t:lam}), lambda__H_2_t)[0]\n",
    "euler = dL_dK.subs({lambda__H_2_t:lam2, \n",
    "                    lambda__H_2_tp1:step_equation_forward(lam2),\n",
    "                    lambda_tp1:step_equation_forward(lam2)})\n",
    "euler = sp.Eq(C_tp1 / C_t, sp.solve(euler, C_tp1)[0] / C_t)"
   ]
  },
  {
   "cell_type": "code",
   "execution_count": 155,
   "id": "f5df707d",
   "metadata": {},
   "outputs": [
    {
     "data": {
      "text/latex": [
       "$\\displaystyle \\frac{C_{t+1}}{C_{t}} = \\beta \\left(- \\delta + r_{t+1} + 1\\right)$"
      ],
      "text/plain": [
       "Eq(C_t+1/C_t, beta*(-delta + r_t+1 + 1))"
      ]
     },
     "execution_count": 155,
     "metadata": {},
     "output_type": "execute_result"
    }
   ],
   "source": [
    "euler"
   ]
  },
  {
   "cell_type": "markdown",
   "id": "35830176",
   "metadata": {},
   "source": [
    "### Labor supply curve"
   ]
  },
  {
   "cell_type": "code",
   "execution_count": 156,
   "id": "4d831801",
   "metadata": {},
   "outputs": [
    {
     "data": {
      "text/latex": [
       "$\\displaystyle w_{t} = \\frac{\\psi C_{t}}{\\gamma L_{t}}$"
      ],
      "text/plain": [
       "Eq(w_t, psi*C_t/(gamma*L_t))"
      ]
     },
     "execution_count": 156,
     "metadata": {},
     "output_type": "execute_result"
    }
   ],
   "source": [
    "lam1 = sp.solve(dL_dN, lambda__H_1_t)[0]\n",
    "wage = sp.solve(dL_dL.subs({lambda__H_1_t:lam1, lambda_t:lam}), w_t)[0]\n",
    "sp.Eq(w_t, wage)"
   ]
  },
  {
   "cell_type": "markdown",
   "id": "4010a6f6",
   "metadata": {},
   "source": [
    "## Firm FOC\n",
    "\n",
    "In the exact same way, we can look into the firm FoC."
   ]
  },
  {
   "cell_type": "code",
   "execution_count": 157,
   "id": "577c1fc5",
   "metadata": {},
   "outputs": [
    {
     "data": {
      "text/latex": [
       "$\\displaystyle \\frac{d}{d N_{t}} \\mathcal L = A_{t} K_{t-1}^{\\alpha} N_{t}^{- \\alpha} mc_{t} \\left(1 - \\alpha\\right) - w_{t}$"
      ],
      "text/plain": [
       "Eq(Derivative(\\mathcal L, N_t), A_t*K_t-1**alpha*mc_t*(1 - alpha)/N_t**alpha - w_t)"
      ]
     },
     "metadata": {},
     "output_type": "display_data"
    },
    {
     "data": {
      "text/latex": [
       "$\\displaystyle \\frac{d}{d K_{t-1}} \\mathcal L = \\alpha A_{t} K_{t-1}^{\\alpha - 1} N_{t}^{1 - \\alpha} mc_{t} - r_{t}$"
      ],
      "text/plain": [
       "Eq(Derivative(\\mathcal L, K_t-1), alpha*A_t*K_t-1**(alpha - 1)*N_t**(1 - alpha)*mc_t - r_t)"
      ]
     },
     "metadata": {},
     "output_type": "display_data"
    }
   ],
   "source": [
    "firm_controls = mod.blocks['FIRM'].controls\n",
    "firm_equations = mod.blocks['FIRM'].system_equations\n",
    "for control, eq in zip(firm_controls, firm_equations[-len(controls):]):\n",
    "    display(sp.Eq(L.diff(control, evaluate=False), eq))"
   ]
  },
  {
   "cell_type": "markdown",
   "id": "b22ff166",
   "metadata": {},
   "source": [
    "The only difference with the reference answers is the inclusion of the marginal cost term, which is normalized to 1 in perfect competition. "
   ]
  },
  {
   "cell_type": "code",
   "execution_count": 158,
   "id": "571a52cb",
   "metadata": {},
   "outputs": [
    {
     "data": {
      "text/latex": [
       "$\\displaystyle w_{t} = A_{t} K_{t-1}^{\\alpha} N_{t}^{- \\alpha} mc_{t} \\left(1 - \\alpha\\right)$"
      ],
      "text/plain": [
       "Eq(w_t, A_t*K_t-1**alpha*mc_t*(1 - alpha)/N_t**alpha)"
      ]
     },
     "execution_count": 158,
     "metadata": {},
     "output_type": "execute_result"
    }
   ],
   "source": [
    "sp.Eq(w_t, sp.solve(firm_equations[-2], w_t)[0])"
   ]
  },
  {
   "cell_type": "code",
   "execution_count": 159,
   "id": "fceba51f",
   "metadata": {},
   "outputs": [
    {
     "data": {
      "text/latex": [
       "$\\displaystyle r_{t} = \\alpha A_{t} K_{t-1}^{\\alpha - 1} N_{t}^{1 - \\alpha} mc_{t}$"
      ],
      "text/plain": [
       "Eq(r_t, alpha*A_t*K_t-1**(alpha - 1)*N_t**(1 - alpha)*mc_t)"
      ]
     },
     "execution_count": 159,
     "metadata": {},
     "output_type": "execute_result"
    }
   ],
   "source": [
    "sp.Eq(r_t, sp.solve(firm_equations[-1], r_t)[0])"
   ]
  },
  {
   "cell_type": "markdown",
   "id": "2c7aa44b",
   "metadata": {},
   "source": [
    "## Implicit Market Clearing\n",
    "\n",
    "This is easily shown by substituting the definition of total costs into the definition dividends, then putting the resulting term into the household budget constraint. "
   ]
  },
  {
   "cell_type": "code",
   "execution_count": 160,
   "id": "a578c3bf",
   "metadata": {},
   "outputs": [
    {
     "data": {
      "text/latex": [
       "$\\displaystyle - C_{t} - I_{t} + Y_{t}$"
      ],
      "text/plain": [
       "-C_t - I_t + Y_t"
      ]
     },
     "execution_count": 160,
     "metadata": {},
     "output_type": "execute_result"
    }
   ],
   "source": [
    "household_budget = household_equations[0]\n",
    "dividends = sp.solve(firm_equations[1], Div_t)[0]\n",
    "total_cost = sp.solve(firm_equations[3], TC_t)[0]\n",
    "\n",
    "household_budget.subs({Div_t:dividends,\n",
    "                       TC_t:total_cost}).simplify()"
   ]
  },
  {
   "cell_type": "markdown",
   "id": "e7d80eb1",
   "metadata": {},
   "source": [
    "## Derive the steady state\n",
    "\n",
    "Step 1: Get factor prices"
   ]
  },
  {
   "cell_type": "code",
   "execution_count": 226,
   "id": "1d1819e1",
   "metadata": {},
   "outputs": [
    {
     "data": {
      "text/latex": [
       "$\\displaystyle - \\frac{r_{t}^{\\alpha} w_{t}^{1 - \\alpha} e^{\\alpha \\log{\\left(- \\frac{\\alpha - 1}{\\alpha} \\right)}}}{\\alpha - 1}$"
      ],
      "text/plain": [
       "-r_t**alpha*w_t**(1 - alpha)*exp(alpha*log(-(alpha - 1)/alpha))/(alpha - 1)"
      ]
     },
     "execution_count": 226,
     "metadata": {},
     "output_type": "execute_result"
    }
   ],
   "source": [
    "# r_ss is easy, it fall straight out of the Euler equation.\n",
    "r_ss_solved= sp.solve(eq_to_ss(euler), r_ss)[0]\n",
    "\n",
    "# for w_ss, plug factor demands back into the production function,\n",
    "# then solve for marginal cost\n",
    "am1 = sp.Symbol(r'\\alpha^{-1}', positive=True, real=True)\n",
    "\n",
    "capital_demand = sp.solve(firm_equations[-1]\n",
    "     .replace(K_tm1 ** (alpha - 1), K_tm1 ** alpha / K_tm1)\n",
    "     .subs(production_func + Y_t, Y_t), K_tm1)[0]\n",
    "\n",
    "labor_demand = sp.solve(firm_equations[-2]\n",
    "     .replace(N_t ** -alpha, N_t ** (1 - alpha) / N_t)\n",
    "     .subs(production_func + Y_t, Y_t), N_t)[0]\n",
    "\n",
    "production_func = mod.blocks['FIRM'].system_equations[2]\n",
    "sp.solve(production_func.subs({K_tm1:capital_demand,\n",
    "                      N_t:labor_demand,\n",
    "                      A_t:1}), mc_t)[0]"
   ]
  },
  {
   "cell_type": "code",
   "execution_count": 215,
   "id": "81c97200",
   "metadata": {},
   "outputs": [
    {
     "data": {
      "text/latex": [
       "$\\displaystyle \\frac{\\alpha Y_{t} mc_{t}}{r_{t}}$"
      ],
      "text/plain": [
       "alpha*Y_t*mc_t/r_t"
      ]
     },
     "execution_count": 215,
     "metadata": {},
     "output_type": "execute_result"
    }
   ],
   "source": [
    "capital_demand"
   ]
  },
  {
   "cell_type": "code",
   "execution_count": 196,
   "id": "4058d73a",
   "metadata": {},
   "outputs": [
    {
     "data": {
      "text/latex": [
       "$\\displaystyle \\left(\\frac{N_{t}^{\\alpha - 1} r_{t}}{\\alpha A_{t} mc_{t}}\\right)^{\\frac{1}{\\alpha - 1}}$"
      ],
      "text/plain": [
       "(N_t**(alpha - 1)*r_t/(alpha*A_t*mc_t))**(1/(alpha - 1))"
      ]
     },
     "execution_count": 196,
     "metadata": {},
     "output_type": "execute_result"
    }
   ],
   "source": [
    "sp.solve(firm_equations[-1], K_tm1)[0]"
   ]
  },
  {
   "cell_type": "code",
   "execution_count": 193,
   "id": "3b8740b9",
   "metadata": {},
   "outputs": [
    {
     "data": {
      "text/latex": [
       "$\\displaystyle A_{t} K_{t-1}^{\\alpha} N_{t}^{1 - \\alpha}$"
      ],
      "text/plain": [
       "A_t*K_t-1**alpha*N_t**(1 - alpha)"
      ]
     },
     "execution_count": 193,
     "metadata": {},
     "output_type": "execute_result"
    }
   ],
   "source": [
    "production_func + Y_t"
   ]
  },
  {
   "cell_type": "code",
   "execution_count": 78,
   "id": "8231c1c8",
   "metadata": {},
   "outputs": [
    {
     "name": "stdout",
     "output_type": "stream",
     "text": [
      "Steady state found! Sum of squared residuals is 5.516578011665664e-25\n",
      "Solution found, sum of squared residuals:  3.299074422098197e-29\n",
      "Norm of deterministic part: 0.000000000\n",
      "Norm of stochastic part:    0.000000000\n"
     ]
    }
   ],
   "source": [
    "mod.steady_state()\n",
    "mod.solve_model(not_loglin_variable=['Div'])"
   ]
  },
  {
   "cell_type": "code",
   "execution_count": 8,
   "id": "7e4d7fe9",
   "metadata": {},
   "outputs": [
    {
     "name": "stdout",
     "output_type": "stream",
     "text": [
      "A_ss                    1.000\n",
      "C_ss                    0.629\n",
      "Div_ss                  0.000\n",
      "I_ss                    0.166\n",
      "K_ss                    4.733\n",
      "L_ss                    0.670\n",
      "N_ss                    0.330\n",
      "TC_ss                  -0.795\n",
      "U_ss                  -57.590\n",
      "Y_ss                    0.795\n",
      "lambda__H_1_ss          2.565\n",
      "lambda_ss               1.590\n",
      "r_ss                    0.055\n",
      "w_ss                    1.613\n",
      "\n",
      "\n",
      "In addition, the following parameter values were calibrated:\n",
      "psi                     1.719\n"
     ]
    }
   ],
   "source": [
    "mod.print_steady_state()"
   ]
  },
  {
   "cell_type": "code",
   "execution_count": null,
   "id": "530ba53d",
   "metadata": {},
   "outputs": [],
   "source": []
  }
 ],
 "metadata": {
  "kernelspec": {
   "display_name": "Python 3 (ipykernel)",
   "language": "python",
   "name": "python3"
  },
  "language_info": {
   "codemirror_mode": {
    "name": "ipython",
    "version": 3
   },
   "file_extension": ".py",
   "mimetype": "text/x-python",
   "name": "python",
   "nbconvert_exporter": "python",
   "pygments_lexer": "ipython3",
   "version": "3.10.10"
  },
  "toc": {
   "base_numbering": 1,
   "nav_menu": {},
   "number_sections": true,
   "sideBar": true,
   "skip_h1_title": false,
   "title_cell": "Table of Contents",
   "title_sidebar": "Contents",
   "toc_cell": false,
   "toc_position": {},
   "toc_section_display": true,
   "toc_window_display": false
  }
 },
 "nbformat": 4,
 "nbformat_minor": 5
}
