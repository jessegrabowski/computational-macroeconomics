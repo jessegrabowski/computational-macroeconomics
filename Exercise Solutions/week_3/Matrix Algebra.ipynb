{
 "cells": [
  {
   "cell_type": "code",
   "execution_count": 1,
   "id": "3c0cbda0",
   "metadata": {},
   "outputs": [],
   "source": [
    "import numpy as np\n",
    "from scipy import linalg"
   ]
  },
  {
   "cell_type": "markdown",
   "id": "48fb840c",
   "metadata": {},
   "source": [
    "# Matrix Algebra\n",
    "\n",
    "The main package is `numpy` of course, but there are some more specialized routines in `scipy.linalg` that interest us as well."
   ]
  },
  {
   "cell_type": "code",
   "execution_count": 2,
   "id": "e75e2640",
   "metadata": {},
   "outputs": [],
   "source": [
    "A = np.array([[0.5, 0.0, 0.0], \n",
    "              [0.1, 0.1, 0.3],\n",
    "              [0.0, 0.2, 0.3]])\n",
    "\n",
    "Σ_u = np.array([[2.25, 0.00, 0.00],\n",
    "                [0.00, 1.00, 0.50],\n",
    "                [0.00, 0.50, 0.74]])"
   ]
  },
  {
   "cell_type": "markdown",
   "id": "f461486f",
   "metadata": {},
   "source": [
    "## Question 1\n",
    "\n",
    "Compute eigenvalues. Easy to do with `np.linalg.eigvals`.\n",
    "\n",
    "We see that all the eigenvalues are smaller than 1 in modulus (absolute value, since they are all real. This means the dynamics of a VAR(1) system  with transition matrix A are stable, and will smoothly reconverage to 0 following a shock (because they are real)."
   ]
  },
  {
   "cell_type": "code",
   "execution_count": 3,
   "id": "e48ea340",
   "metadata": {},
   "outputs": [
    {
     "data": {
      "text/plain": [
       "array([ 0.46457513, -0.06457513,  0.5       ])"
      ]
     },
     "execution_count": 3,
     "metadata": {},
     "output_type": "execute_result"
    }
   ],
   "source": [
    "np.linalg.eigvals(A)"
   ]
  },
  {
   "cell_type": "markdown",
   "id": "e48807e6",
   "metadata": {},
   "source": [
    "## Question 2\n",
    "\n",
    "Given matrices $D$, $E$, $F$ with shapes `(m, n)`, `(n, p)`, `(p, k)`, show that:\n",
    "\n",
    "$$\\text{vec}(DEF) = (F^T \\otimes D) \\text{vec}(E)$$\n",
    "\n",
    "Where $\\otimes$ is the Kronecker product"
   ]
  },
  {
   "cell_type": "markdown",
   "id": "923b459b",
   "metadata": {},
   "source": [
    "### Approach 1: Do it and verify\n",
    "\n",
    "The only thing to be aware of is that the vec operator is `.T.ravel()`, since it decomposes matrices column-wise, while `.ravel()` unstacks row-wise"
   ]
  },
  {
   "cell_type": "code",
   "execution_count": 4,
   "id": "53e7a596",
   "metadata": {},
   "outputs": [
    {
     "data": {
      "text/plain": [
       "True"
      ]
     },
     "execution_count": 4,
     "metadata": {},
     "output_type": "execute_result"
    }
   ],
   "source": [
    "m, n, p, k = 10, 8, 6, 3\n",
    "D = np.random.normal(size=(m, n))\n",
    "E = np.random.normal(size=(n, p))\n",
    "F = np.random.normal(size=(p, k))\n",
    "\n",
    "lhs = (D @ E @ F).T.ravel()\n",
    "rhs = np.kron(F.T, D) @ E.T.ravel()\n",
    "\n",
    "np.allclose(lhs, rhs)"
   ]
  },
  {
   "cell_type": "markdown",
   "id": "07b3ef72",
   "metadata": {},
   "source": [
    "### Approach 2: Do some linear algebra\n",
    "\n",
    "I'll admit that for things like this I just go to the Matrix Cookbook. For the equation in question, it cites Minka (2000), who in turn presents it without derivation. Like many things in linear algebra, it is probably something that falls out of the definitions without being super clear why. \n",
    "\n",
    "Perhaps doing a small example symbolically would be helpful"
   ]
  },
  {
   "cell_type": "code",
   "execution_count": 5,
   "id": "848f6d61",
   "metadata": {},
   "outputs": [],
   "source": [
    "import sympy as sp\n",
    "m, n, p, k = 4, 3, 2, 2\n",
    "\n",
    "d_elements = sp.symbols([f'd_{i}{j}' for i in range(m) for j in range(n)])\n",
    "e_elements = sp.symbols([f'e_{i}{j}' for i in range(n) for j in range(p)])\n",
    "f_elements = sp.symbols([f'f_{i}{j}' for i in range(p) for j in range(k)])\n",
    "\n",
    "D = sp.Matrix(d_elements).reshape(m, n)\n",
    "E = sp.Matrix(e_elements).reshape(n, p)\n",
    "F = sp.Matrix(f_elements).reshape(p, k)"
   ]
  },
  {
   "cell_type": "code",
   "execution_count": 6,
   "id": "0e086c2a",
   "metadata": {},
   "outputs": [
    {
     "data": {
      "text/latex": [
       "$\\displaystyle \\left[\\begin{matrix}f_{00} \\left(d_{00} e_{00} + d_{01} e_{10} + d_{02} e_{20}\\right) + f_{10} \\left(d_{00} e_{01} + d_{01} e_{11} + d_{02} e_{21}\\right)\\\\f_{00} \\left(d_{10} e_{00} + d_{11} e_{10} + d_{12} e_{20}\\right) + f_{10} \\left(d_{10} e_{01} + d_{11} e_{11} + d_{12} e_{21}\\right)\\\\f_{00} \\left(d_{20} e_{00} + d_{21} e_{10} + d_{22} e_{20}\\right) + f_{10} \\left(d_{20} e_{01} + d_{21} e_{11} + d_{22} e_{21}\\right)\\\\f_{00} \\left(d_{30} e_{00} + d_{31} e_{10} + d_{32} e_{20}\\right) + f_{10} \\left(d_{30} e_{01} + d_{31} e_{11} + d_{32} e_{21}\\right)\\\\f_{01} \\left(d_{00} e_{00} + d_{01} e_{10} + d_{02} e_{20}\\right) + f_{11} \\left(d_{00} e_{01} + d_{01} e_{11} + d_{02} e_{21}\\right)\\\\f_{01} \\left(d_{10} e_{00} + d_{11} e_{10} + d_{12} e_{20}\\right) + f_{11} \\left(d_{10} e_{01} + d_{11} e_{11} + d_{12} e_{21}\\right)\\\\f_{01} \\left(d_{20} e_{00} + d_{21} e_{10} + d_{22} e_{20}\\right) + f_{11} \\left(d_{20} e_{01} + d_{21} e_{11} + d_{22} e_{21}\\right)\\\\f_{01} \\left(d_{30} e_{00} + d_{31} e_{10} + d_{32} e_{20}\\right) + f_{11} \\left(d_{30} e_{01} + d_{31} e_{11} + d_{32} e_{21}\\right)\\end{matrix}\\right]$"
      ],
      "text/plain": [
       "Matrix([\n",
       "[f_00*(d_00*e_00 + d_01*e_10 + d_02*e_20) + f_10*(d_00*e_01 + d_01*e_11 + d_02*e_21)],\n",
       "[f_00*(d_10*e_00 + d_11*e_10 + d_12*e_20) + f_10*(d_10*e_01 + d_11*e_11 + d_12*e_21)],\n",
       "[f_00*(d_20*e_00 + d_21*e_10 + d_22*e_20) + f_10*(d_20*e_01 + d_21*e_11 + d_22*e_21)],\n",
       "[f_00*(d_30*e_00 + d_31*e_10 + d_32*e_20) + f_10*(d_30*e_01 + d_31*e_11 + d_32*e_21)],\n",
       "[f_01*(d_00*e_00 + d_01*e_10 + d_02*e_20) + f_11*(d_00*e_01 + d_01*e_11 + d_02*e_21)],\n",
       "[f_01*(d_10*e_00 + d_11*e_10 + d_12*e_20) + f_11*(d_10*e_01 + d_11*e_11 + d_12*e_21)],\n",
       "[f_01*(d_20*e_00 + d_21*e_10 + d_22*e_20) + f_11*(d_20*e_01 + d_21*e_11 + d_22*e_21)],\n",
       "[f_01*(d_30*e_00 + d_31*e_10 + d_32*e_20) + f_11*(d_30*e_01 + d_31*e_11 + d_32*e_21)]])"
      ]
     },
     "execution_count": 6,
     "metadata": {},
     "output_type": "execute_result"
    }
   ],
   "source": [
    "(D @ E @ F).vec()"
   ]
  },
  {
   "cell_type": "markdown",
   "id": "6a0fb4bd",
   "metadata": {},
   "source": [
    "We can see the kroneker product puts the elements of $F$ in the correct positions to be factored out after matrix multiplication with vec(E). Since we're going to multiply by the vec of E (an `(n*p, 1)` vector), we'll multiply each column by the corresponding element of vec(E) and add the rows. For the first row, this will become:\n",
    "\n",
    "$$f_{00}(d_{00} e_{00} + d_{01}e_{10} + d_{02}e_{20})$$\n",
    "\n",
    "and\n",
    "\n",
    "$$f_{10}(d_{00}e_{01} + d_{01}e_{11} + d_{02}e_{21})$$\n",
    "\n",
    "Which is exactly as above. \n",
    "\n",
    "I still have no idea **why** this is true (beyond the fact that it arithmetically works), but it clearly is. "
   ]
  },
  {
   "cell_type": "code",
   "execution_count": 7,
   "id": "daa49aa7",
   "metadata": {},
   "outputs": [
    {
     "data": {
      "text/latex": [
       "$\\displaystyle \\left[\\begin{matrix}d_{00} f_{00} & d_{01} f_{00} & d_{02} f_{00} & d_{00} f_{10} & d_{01} f_{10} & d_{02} f_{10}\\\\d_{10} f_{00} & d_{11} f_{00} & d_{12} f_{00} & d_{10} f_{10} & d_{11} f_{10} & d_{12} f_{10}\\\\d_{20} f_{00} & d_{21} f_{00} & d_{22} f_{00} & d_{20} f_{10} & d_{21} f_{10} & d_{22} f_{10}\\\\d_{30} f_{00} & d_{31} f_{00} & d_{32} f_{00} & d_{30} f_{10} & d_{31} f_{10} & d_{32} f_{10}\\\\d_{00} f_{01} & d_{01} f_{01} & d_{02} f_{01} & d_{00} f_{11} & d_{01} f_{11} & d_{02} f_{11}\\\\d_{10} f_{01} & d_{11} f_{01} & d_{12} f_{01} & d_{10} f_{11} & d_{11} f_{11} & d_{12} f_{11}\\\\d_{20} f_{01} & d_{21} f_{01} & d_{22} f_{01} & d_{20} f_{11} & d_{21} f_{11} & d_{22} f_{11}\\\\d_{30} f_{01} & d_{31} f_{01} & d_{32} f_{01} & d_{30} f_{11} & d_{31} f_{11} & d_{32} f_{11}\\end{matrix}\\right]$"
      ],
      "text/plain": [
       "Matrix([\n",
       "[d_00*f_00, d_01*f_00, d_02*f_00, d_00*f_10, d_01*f_10, d_02*f_10],\n",
       "[d_10*f_00, d_11*f_00, d_12*f_00, d_10*f_10, d_11*f_10, d_12*f_10],\n",
       "[d_20*f_00, d_21*f_00, d_22*f_00, d_20*f_10, d_21*f_10, d_22*f_10],\n",
       "[d_30*f_00, d_31*f_00, d_32*f_00, d_30*f_10, d_31*f_10, d_32*f_10],\n",
       "[d_00*f_01, d_01*f_01, d_02*f_01, d_00*f_11, d_01*f_11, d_02*f_11],\n",
       "[d_10*f_01, d_11*f_01, d_12*f_01, d_10*f_11, d_11*f_11, d_12*f_11],\n",
       "[d_20*f_01, d_21*f_01, d_22*f_01, d_20*f_11, d_21*f_11, d_22*f_11],\n",
       "[d_30*f_01, d_31*f_01, d_32*f_01, d_30*f_11, d_31*f_11, d_32*f_11]])"
      ]
     },
     "execution_count": 7,
     "metadata": {},
     "output_type": "execute_result"
    }
   ],
   "source": [
    "sp.kronecker_product(F.T, D)"
   ]
  },
  {
   "cell_type": "code",
   "execution_count": 8,
   "id": "5938bb54",
   "metadata": {},
   "outputs": [
    {
     "data": {
      "text/latex": [
       "$\\displaystyle \\left[\\begin{matrix}f_{00} \\left(d_{00} e_{00} + d_{01} e_{10} + d_{02} e_{20}\\right) + f_{10} \\left(d_{00} e_{01} + d_{01} e_{11} + d_{02} e_{21}\\right)\\\\f_{00} \\left(d_{10} e_{00} + d_{11} e_{10} + d_{12} e_{20}\\right) + f_{10} \\left(d_{10} e_{01} + d_{11} e_{11} + d_{12} e_{21}\\right)\\\\f_{00} \\left(d_{20} e_{00} + d_{21} e_{10} + d_{22} e_{20}\\right) + f_{10} \\left(d_{20} e_{01} + d_{21} e_{11} + d_{22} e_{21}\\right)\\\\f_{00} \\left(d_{30} e_{00} + d_{31} e_{10} + d_{32} e_{20}\\right) + f_{10} \\left(d_{30} e_{01} + d_{31} e_{11} + d_{32} e_{21}\\right)\\\\f_{01} \\left(d_{00} e_{00} + d_{01} e_{10} + d_{02} e_{20}\\right) + f_{11} \\left(d_{00} e_{01} + d_{01} e_{11} + d_{02} e_{21}\\right)\\\\f_{01} \\left(d_{10} e_{00} + d_{11} e_{10} + d_{12} e_{20}\\right) + f_{11} \\left(d_{10} e_{01} + d_{11} e_{11} + d_{12} e_{21}\\right)\\\\f_{01} \\left(d_{20} e_{00} + d_{21} e_{10} + d_{22} e_{20}\\right) + f_{11} \\left(d_{20} e_{01} + d_{21} e_{11} + d_{22} e_{21}\\right)\\\\f_{01} \\left(d_{30} e_{00} + d_{31} e_{10} + d_{32} e_{20}\\right) + f_{11} \\left(d_{30} e_{01} + d_{31} e_{11} + d_{32} e_{21}\\right)\\end{matrix}\\right]$"
      ],
      "text/plain": [
       "Matrix([\n",
       "[f_00*(d_00*e_00 + d_01*e_10 + d_02*e_20) + f_10*(d_00*e_01 + d_01*e_11 + d_02*e_21)],\n",
       "[f_00*(d_10*e_00 + d_11*e_10 + d_12*e_20) + f_10*(d_10*e_01 + d_11*e_11 + d_12*e_21)],\n",
       "[f_00*(d_20*e_00 + d_21*e_10 + d_22*e_20) + f_10*(d_20*e_01 + d_21*e_11 + d_22*e_21)],\n",
       "[f_00*(d_30*e_00 + d_31*e_10 + d_32*e_20) + f_10*(d_30*e_01 + d_31*e_11 + d_32*e_21)],\n",
       "[f_01*(d_00*e_00 + d_01*e_10 + d_02*e_20) + f_11*(d_00*e_01 + d_01*e_11 + d_02*e_21)],\n",
       "[f_01*(d_10*e_00 + d_11*e_10 + d_12*e_20) + f_11*(d_10*e_01 + d_11*e_11 + d_12*e_21)],\n",
       "[f_01*(d_20*e_00 + d_21*e_10 + d_22*e_20) + f_11*(d_20*e_01 + d_21*e_11 + d_22*e_21)],\n",
       "[f_01*(d_30*e_00 + d_31*e_10 + d_32*e_20) + f_11*(d_30*e_01 + d_31*e_11 + d_32*e_21)]])"
      ]
     },
     "execution_count": 8,
     "metadata": {},
     "output_type": "execute_result"
    }
   ],
   "source": [
    "(sp.kronecker_product(F.T, D) @ E.vec()).applyfunc(lambda x: sp.collect(x, f_elements))"
   ]
  },
  {
   "cell_type": "markdown",
   "id": "b50e88da",
   "metadata": {},
   "source": [
    "## Question 3\n",
    "\n",
    "Decompose $\\Sigma_u$ into $W \\Sigma_\\epsilon W^T$, with $W^T$ lower triangular and $\\Sigma_\\epsilon$ diagonal.\n",
    "\n",
    "The text says to use the Cholesky factorization, but this looks like the LDL decomposition to me? Wikipedia says they're connected!"
   ]
  },
  {
   "cell_type": "code",
   "execution_count": 9,
   "id": "0fc47a93",
   "metadata": {},
   "outputs": [
    {
     "data": {
      "text/plain": [
       "True"
      ]
     },
     "execution_count": 9,
     "metadata": {},
     "output_type": "execute_result"
    }
   ],
   "source": [
    "# Method 1: Just do the ldl decompositon\n",
    "W, Σ_e, _ = linalg.ldl(Σ_u)\n",
    "np.allclose(W @ Σ_e @ W.T, Σ_u)"
   ]
  },
  {
   "cell_type": "code",
   "execution_count": 10,
   "id": "9798a925",
   "metadata": {},
   "outputs": [
    {
     "data": {
      "text/plain": [
       "True"
      ]
     },
     "execution_count": 10,
     "metadata": {},
     "output_type": "execute_result"
    }
   ],
   "source": [
    "# Method 2: Do it by hand via cholesky decomposition\n",
    "L = np.linalg.cholesky(Σ_u)\n",
    "\n",
    "# Extract diagonal \n",
    "S = np.diag(np.diag(L))\n",
    "\n",
    "# Compute component matrices\n",
    "W = L @ np.linalg.inv(S)\n",
    "Σ_e = S @ S\n",
    "\n",
    "np.allclose(W @ Σ_e @ W.T, Σ_u)"
   ]
  },
  {
   "cell_type": "markdown",
   "id": "c264166d",
   "metadata": {},
   "source": [
    "## Question 4\n",
    "\n",
    "Solve the discrete lyapunov equation:\n",
    "\n",
    "$$ \\Sigma_y = A \\Sigma_y A^T + \\Sigma_u $$\n",
    "\n",
    "We note that the vec operator is linear, so we can distribute it to all terms:\n",
    "\n",
    "$$\\text{vec}(\\Sigma_y) = \\text{vec}( A \\Sigma_y A^T) + \\text{\\Sigma_u}()$$\n",
    "\n",
    "Next, use the identity above:\n",
    "\n",
    "$$\\text{vec}(\\Sigma_y) = (A \\otimes A) \\text{vec}(\\Sigma_y) + \\text{vec}(\\Sigma_u)$$\n",
    "\n",
    "And we can now solve for $\\vec{\\Sigma_y}$ directly:\n",
    "\n",
    "$$\\text{vec}(\\Sigma_y) = (I - A \\otimes A)^{-1}\\text{vec}(\\Sigma_u)$$"
   ]
  },
  {
   "cell_type": "markdown",
   "id": "ecdad8c6",
   "metadata": {},
   "source": [
    "### Baseline"
   ]
  },
  {
   "cell_type": "code",
   "execution_count": 11,
   "id": "fcac2f6d",
   "metadata": {},
   "outputs": [
    {
     "data": {
      "text/plain": [
       "array([[3.        , 0.16088328, 0.01892744],\n",
       "       [0.16088328, 1.17231739, 0.67368324],\n",
       "       [0.01892744, 0.67368324, 0.9535546 ]])"
      ]
     },
     "execution_count": 11,
     "metadata": {},
     "output_type": "execute_result"
    }
   ],
   "source": [
    "Σy_baseline = linalg.solve_discrete_lyapunov(A, Σ_u)\n",
    "Σy_baseline"
   ]
  },
  {
   "cell_type": "markdown",
   "id": "140f4b19",
   "metadata": {},
   "source": [
    "### Method 1: Direct Solution"
   ]
  },
  {
   "cell_type": "code",
   "execution_count": 12,
   "id": "b75836b9",
   "metadata": {},
   "outputs": [
    {
     "data": {
      "text/plain": [
       "array([[3.        , 0.16088328, 0.01892744],\n",
       "       [0.16088328, 1.17231739, 0.67368324],\n",
       "       [0.01892744, 0.67368324, 0.9535546 ]])"
      ]
     },
     "execution_count": 12,
     "metadata": {},
     "output_type": "execute_result"
    }
   ],
   "source": [
    "vec_Σy = np.linalg.inv(np.eye(9) - np.kron(A, A)) @ Σ_u.T.ravel()\n",
    "Σy_direct = vec_Σy.T.reshape((3, 3))\n",
    "Σy_direct"
   ]
  },
  {
   "cell_type": "code",
   "execution_count": 13,
   "id": "bade5a6c",
   "metadata": {},
   "outputs": [
    {
     "data": {
      "text/plain": [
       "True"
      ]
     },
     "execution_count": 13,
     "metadata": {},
     "output_type": "execute_result"
    }
   ],
   "source": [
    "np.allclose(Σy_baseline, Σy_direct)"
   ]
  },
  {
   "cell_type": "markdown",
   "id": "5a74a925",
   "metadata": {},
   "source": [
    "### Method 2: Doubling Algorithm"
   ]
  },
  {
   "cell_type": "code",
   "execution_count": 14,
   "id": "bf6e1efd",
   "metadata": {},
   "outputs": [
    {
     "name": "stdout",
     "output_type": "stream",
     "text": [
      "Converged at iteration 5\n"
     ]
    }
   ],
   "source": [
    "Σ_y_i = Σ_u.copy()\n",
    "A_i = A.copy()\n",
    "\n",
    "def step(Σ_y, Σ_u, A):\n",
    "    Σ_y_next = Σ_y + A @ Σ_y @ A.T\n",
    "    A_next = A @ A\n",
    "    return Σ_y_next, A_next\n",
    "\n",
    "maxiter = 500\n",
    "for i in range(maxiter):\n",
    "    Σ_y_next, A_next = step(Σ_y_i, Σ_u, A_i)\n",
    "    error = np.max(np.abs(Σ_y_next - Σ_y_i))\n",
    "    if error < 1e-25:\n",
    "        print(f'Converged at iteration {i}')\n",
    "        break\n",
    "    Σ_y_i, A_i = Σ_y_next, A_next"
   ]
  },
  {
   "cell_type": "code",
   "execution_count": 15,
   "id": "722858ea",
   "metadata": {},
   "outputs": [
    {
     "data": {
      "text/plain": [
       "array([[3.        , 0.16088328, 0.01892744],\n",
       "       [0.16088328, 1.17231739, 0.67368324],\n",
       "       [0.01892744, 0.67368324, 0.9535546 ]])"
      ]
     },
     "execution_count": 15,
     "metadata": {},
     "output_type": "execute_result"
    }
   ],
   "source": [
    "Σ_y_i"
   ]
  },
  {
   "cell_type": "code",
   "execution_count": 16,
   "id": "cc8007bd",
   "metadata": {},
   "outputs": [
    {
     "data": {
      "text/plain": [
       "True"
      ]
     },
     "execution_count": 16,
     "metadata": {},
     "output_type": "execute_result"
    }
   ],
   "source": [
    "np.allclose(Σy_baseline, Σ_y_i)"
   ]
  },
  {
   "cell_type": "code",
   "execution_count": null,
   "id": "dc731f64",
   "metadata": {},
   "outputs": [],
   "source": []
  }
 ],
 "metadata": {
  "kernelspec": {
   "display_name": "Python 3 (ipykernel)",
   "language": "python",
   "name": "python3"
  },
  "language_info": {
   "codemirror_mode": {
    "name": "ipython",
    "version": 3
   },
   "file_extension": ".py",
   "mimetype": "text/x-python",
   "name": "python",
   "nbconvert_exporter": "python",
   "pygments_lexer": "ipython3",
   "version": "3.10.10"
  },
  "toc": {
   "base_numbering": 1,
   "nav_menu": {},
   "number_sections": true,
   "sideBar": true,
   "skip_h1_title": false,
   "title_cell": "Table of Contents",
   "title_sidebar": "Contents",
   "toc_cell": false,
   "toc_position": {},
   "toc_section_display": true,
   "toc_window_display": false
  }
 },
 "nbformat": 4,
 "nbformat_minor": 5
}
