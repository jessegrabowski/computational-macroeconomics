{
 "cells": [
  {
   "cell_type": "markdown",
   "id": "01e1d643",
   "metadata": {
    "toc": true
   },
   "source": [
    "<h1>Table of Contents<span class=\"tocSkip\"></span></h1>\n",
    "<div class=\"toc\"><ul class=\"toc-item\"></ul></div>"
   ]
  },
  {
   "cell_type": "code",
   "execution_count": 1,
   "id": "09954267",
   "metadata": {},
   "outputs": [],
   "source": [
    "import gEconpy as ge\n",
    "import gEconpy.plotting as gp"
   ]
  },
  {
   "cell_type": "code",
   "execution_count": 6,
   "id": "22d827c3",
   "metadata": {},
   "outputs": [
    {
     "name": "stdout",
     "output_type": "stream",
     "text": [
      "Model Building Complete.\n",
      "Found:\n",
      "\t22 equations\n",
      "\t22 variables\n",
      "\tThe following \"variables\" were defined as constants and have been substituted away:\n",
      "\t\tmc_t\n",
      "\t1 stochastic shock\n",
      "\t\t 0 / 1 has a defined prior. \n",
      "\t6 parameter\n",
      "\t\t 0 / 6 has a defined prior. \n",
      "\t1 calibrating equation\n",
      "\t1 parameter to calibrate\n",
      " Model appears well defined and ready to proceed to solving.\n",
      "\n"
     ]
    }
   ],
   "source": [
    "mod = ge.gEconModel('rbc_trend_growth.gcn')"
   ]
  },
  {
   "cell_type": "code",
   "execution_count": 9,
   "id": "daf53bc6",
   "metadata": {},
   "outputs": [
    {
     "data": {
      "text/plain": [
       "[-C_hat_t + Div_t - I_hat_t + K_hat_t-1*r_t + N_t*w_hat_t,\n",
       " -L_t - N_t + 1,\n",
       " I_hat_t - K_hat_t + K_hat_t-1*(1 - delta),\n",
       " beta*U_t+1 + gamma*log(C_hat_t) + psi*log(L_t) - U_t,\n",
       " gamma/C_hat_t - lambda_t,\n",
       " beta*(lambda_t+1*r_t+1 - lambda_t+1*(delta - 1)) - lambda_t,\n",
       " psi/L_t - lambda__H_1_t,\n",
       " -lambda__H_1_t + lambda_t*w_hat_t,\n",
       " -Div_hat_t + TC_hat_t + Y_hat_t,\n",
       " A_t*K_hat_t-1**alpha*N_t**(1 - alpha) - Y_hat_t,\n",
       " -K_hat_t-1*r_t - N_t*w_hat_t - TC_hat_t,\n",
       " A_t*K_hat_t-1**alpha*(1 - alpha)/N_t**alpha - w_hat_t,\n",
       " alpha*A_t*K_hat_t-1**(alpha - 1)*N_t**(1 - alpha) - r_t,\n",
       " rho*log(A_t-1) + epsilon_t - log(A_t),\n",
       " gamma_X*X_t-1 - X_t,\n",
       " -Y_hat_t + Y_t/X_t,\n",
       " -K_hat_t + K_t/X_t-1,\n",
       " -C_hat_t + C_t/X_t,\n",
       " -I_hat_t + I_t/X_t,\n",
       " -w_hat_t + w_t/X_t,\n",
       " -TC_hat_t + TC_t/X_t,\n",
       " -Div_hat_t + Div_t/X_t]"
      ]
     },
     "execution_count": 9,
     "metadata": {},
     "output_type": "execute_result"
    }
   ],
   "source": [
    "mod.system_equations"
   ]
  },
  {
   "cell_type": "code",
   "execution_count": 7,
   "id": "520be0fe",
   "metadata": {},
   "outputs": [
    {
     "name": "stdout",
     "output_type": "stream",
     "text": [
      "Steady state NOT found. Sum of squared residuals is 7.528880266604367\n"
     ]
    }
   ],
   "source": [
    "mod.steady_state()"
   ]
  },
  {
   "cell_type": "code",
   "execution_count": 8,
   "id": "cb530746",
   "metadata": {},
   "outputs": [
    {
     "data": {
      "text/plain": [
       "array([ 0.30719245, -0.45894439,  0.59050845, -0.32740722,  0.32052725,\n",
       "        0.42318189,  0.17740812, -0.1305916 ,  0.61192585, -0.10607553,\n",
       "       -1.53104415, -0.19443531, -0.41902875,  0.00834584,  0.01835778,\n",
       "        0.27087437, -0.27203872,  0.10937135,  0.66018174,  0.16629221,\n",
       "        1.36317724,  0.94005877,  0.35950644])"
      ]
     },
     "execution_count": 8,
     "metadata": {},
     "output_type": "execute_result"
    }
   ],
   "source": [
    "mod.residuals"
   ]
  },
  {
   "cell_type": "code",
   "execution_count": null,
   "id": "edf4507a",
   "metadata": {},
   "outputs": [],
   "source": []
  }
 ],
 "metadata": {
  "kernelspec": {
   "display_name": "Python 3 (ipykernel)",
   "language": "python",
   "name": "python3"
  },
  "language_info": {
   "codemirror_mode": {
    "name": "ipython",
    "version": 3
   },
   "file_extension": ".py",
   "mimetype": "text/x-python",
   "name": "python",
   "nbconvert_exporter": "python",
   "pygments_lexer": "ipython3",
   "version": "3.10.10"
  },
  "toc": {
   "base_numbering": 1,
   "nav_menu": {},
   "number_sections": true,
   "sideBar": true,
   "skip_h1_title": false,
   "title_cell": "Table of Contents",
   "title_sidebar": "Contents",
   "toc_cell": true,
   "toc_position": {},
   "toc_section_display": true,
   "toc_window_display": false
  }
 },
 "nbformat": 4,
 "nbformat_minor": 5
}
