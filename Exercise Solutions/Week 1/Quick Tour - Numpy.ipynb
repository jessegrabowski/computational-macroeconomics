{
 "cells": [
  {
   "cell_type": "code",
   "execution_count": 1,
   "id": "acf6f237",
   "metadata": {},
   "outputs": [],
   "source": [
    "import numpy as np"
   ]
  },
  {
   "cell_type": "markdown",
   "id": "1808c995",
   "metadata": {},
   "source": [
    "## Introduction\n",
    "\n",
    "Numpy is Python's answer to Matlab -- a package dedicated to matrix algebra and the manipulation of ndarray objects. It is also extremely influential -- most of the Python scientific stack is build either directly on top of numpy (scipy, numba, scikit-learn) or makes use of numpy-style notation (jax, tensorflow, pytorch and other more specialized tensor packages)"
   ]
  },
  {
   "cell_type": "markdown",
   "id": "caf2f05e",
   "metadata": {},
   "source": [
    "# Questions"
   ]
  },
  {
   "cell_type": "markdown",
   "id": "9afbecee",
   "metadata": {},
   "source": [
    "## Define column vectors"
   ]
  },
  {
   "cell_type": "code",
   "execution_count": 2,
   "id": "d5851076",
   "metadata": {},
   "outputs": [],
   "source": [
    "x = np.array([-1, 0, 1, 4 ,9, 2, 1, 4.5, 1.1, -0.9])\n",
    "y = np.array([1, 1, 2, 2, 3, 3, 4, 4, 5, np.nan])"
   ]
  },
  {
   "cell_type": "markdown",
   "id": "792382fc",
   "metadata": {},
   "source": [
    "Numpy arrays are neither column nor row vectors by default, because they have only one dimension. You can add another one using the `.reshape` method, `np.expand_dims`, or `None` slicing"
   ]
  },
  {
   "cell_type": "code",
   "execution_count": 4,
   "id": "bb42bddb",
   "metadata": {},
   "outputs": [
    {
     "name": "stdout",
     "output_type": "stream",
     "text": [
      "(10, 1)\n",
      "(10, 1)\n",
      "(10, 1)\n"
     ]
    }
   ],
   "source": [
    "print(x.reshape(-1, 1).shape)\n",
    "print(np.expand_dims(x, -1).shape)\n",
    "print(x[:, None].shape)"
   ]
  },
  {
   "cell_type": "markdown",
   "id": "9ac79df5",
   "metadata": {},
   "source": [
    "## Check shapes\n",
    "\n",
    "Check the shapes with the `.shape` property (already seen above)"
   ]
  },
  {
   "cell_type": "code",
   "execution_count": 5,
   "id": "6e6e2a29",
   "metadata": {},
   "outputs": [
    {
     "data": {
      "text/plain": [
       "True"
      ]
     },
     "execution_count": 5,
     "metadata": {},
     "output_type": "execute_result"
    }
   ],
   "source": [
    "x.shape == y.shape"
   ]
  },
  {
   "cell_type": "markdown",
   "id": "23a58bca",
   "metadata": {},
   "source": [
    "## Logical operations\n",
    "\n",
    "Like matlab, these perform element-wise computation, and return arrays of the same size."
   ]
  },
  {
   "cell_type": "code",
   "execution_count": 28,
   "id": "6f218461",
   "metadata": {},
   "outputs": [
    {
     "name": "stdout",
     "output_type": "stream",
     "text": [
      "x > y:\t\t [False False False  True  True False False  True False False]\n",
      "x < 0:\t\t [ True False False False False False False False False  True]\n",
      "x + 3 >= 0:\t [ True  True  True  True  True  True  True  True  True  True]\n",
      "y < 0:\t\t [False False False False False False False False False False]\n"
     ]
    }
   ],
   "source": [
    "print(f'x > y:\\t\\t {x > y:}')\n",
    "print(f'x < 0:\\t\\t {x < 0}')\n",
    "\n",
    "# Arithmetic operators (+ - / * **) happen before logicals\n",
    "# see https://docs.python.org/3/reference/expressions.html#operator-precedence\n",
    "print(f'x + 3 >= 0:\\t {x + 3 >= 0}')\n",
    "print(f'y < 0:\\t\\t {y < 0}')"
   ]
  },
  {
   "cell_type": "markdown",
   "id": "30643cd5",
   "metadata": {},
   "source": [
    "## Multiple boolean comparisons -- `np.all`\n",
    "\n",
    "Check that a condition evaluates to true for every element in an array using `np.all`. Bitwise `and` comparison can be done with `and` or `&`, bitwise `or` with `or` or `|`"
   ]
  },
  {
   "cell_type": "code",
   "execution_count": 32,
   "id": "c1125f5b",
   "metadata": {},
   "outputs": [
    {
     "name": "stdout",
     "output_type": "stream",
     "text": [
      "False\n",
      "False\n",
      "True\n",
      "True\n"
     ]
    }
   ],
   "source": [
    "# And comparison\n",
    "print(np.all(x + 3 >= 0) and np.all(y > 0))\n",
    "# Equivalent in this case (because the boolean is scalar)\n",
    "print(np.all(x + 3 >= 0) & np.all(y > 0))\n",
    "\n",
    "# Or comparsion\n",
    "print(np.all(x + 3 >= 0) or np.all(y > 0))\n",
    "\n",
    "# Equivalent in this case (because the boolean is scalar)\n",
    "print(np.all(x + 3 >= 0) | np.all(y > 0))"
   ]
  },
  {
   "cell_type": "markdown",
   "id": "6efa01d9",
   "metadata": {},
   "source": [
    "## 1.5 Multiple boolean comparisons -- `np.any`\n",
    "\n",
    "Likewise, we can check if any element of an array is True using `np.any` "
   ]
  },
  {
   "cell_type": "code",
   "execution_count": 33,
   "id": "624dd85d",
   "metadata": {},
   "outputs": [
    {
     "data": {
      "text/plain": [
       "True"
      ]
     },
     "execution_count": 33,
     "metadata": {},
     "output_type": "execute_result"
    }
   ],
   "source": [
    "np.any(y > 0)"
   ]
  },
  {
   "cell_type": "markdown",
   "id": "5859b989",
   "metadata": {},
   "source": [
    "## Math with arrays"
   ]
  },
  {
   "cell_type": "markdown",
   "id": "86b67d54",
   "metadata": {},
   "source": [
    "### Element-wise operators\n",
    "\n",
    "Basic math operations `+ - / * **` (plus bitwise operators) broadcast element-wise across arrays"
   ]
  },
  {
   "cell_type": "code",
   "execution_count": 37,
   "id": "e8b07e81",
   "metadata": {},
   "outputs": [
    {
     "name": "stdout",
     "output_type": "stream",
     "text": [
      "x + y:\t[ 0.   1.   3.   6.  12.   5.   5.   8.5  6.1  nan]\n",
      "x * y:\t[-1.   0.   2.   8.  27.   6.   4.  18.   5.5  nan]\n",
      "x / y:\t[ 0.   1.   3.   6.  12.   5.   5.   8.5  6.1  nan]\n"
     ]
    }
   ],
   "source": [
    "print(f'x + y:\\t{x + y}')\n",
    "print(f'x * y:\\t{x * y}')\n",
    "print(f'x / y:\\t{x + y}')"
   ]
  },
  {
   "cell_type": "markdown",
   "id": "b0482c8a",
   "metadata": {},
   "source": [
    "### Linear Algebra\n",
    "\n",
    "The `@` operator signals matrix multiplication. We need to add a 2nd dimension to `x` and `y` to use it flexibly. For 1d-arrays, `x @ y` is the inner product, `(x * y).sum()`"
   ]
  },
  {
   "cell_type": "code",
   "execution_count": 41,
   "id": "39e976c5",
   "metadata": {},
   "outputs": [
    {
     "name": "stdout",
     "output_type": "stream",
     "text": [
      "nan\n",
      "nan\n",
      "[[-1.  -1.  -2.  -2.  -3.  -3.  -4.  -4.  -5.   nan]\n",
      " [ 0.   0.   0.   0.   0.   0.   0.   0.   0.   nan]\n",
      " [ 1.   1.   2.   2.   3.   3.   4.   4.   5.   nan]\n",
      " [ 4.   4.   8.   8.  12.  12.  16.  16.  20.   nan]\n",
      " [ 9.   9.  18.  18.  27.  27.  36.  36.  45.   nan]\n",
      " [ 2.   2.   4.   4.   6.   6.   8.   8.  10.   nan]\n",
      " [ 1.   1.   2.   2.   3.   3.   4.   4.   5.   nan]\n",
      " [ 4.5  4.5  9.   9.  13.5 13.5 18.  18.  22.5  nan]\n",
      " [ 1.1  1.1  2.2  2.2  3.3  3.3  4.4  4.4  5.5  nan]\n",
      " [-0.9 -0.9 -1.8 -1.8 -2.7 -2.7 -3.6 -3.6 -4.5  nan]]\n",
      "[[-1.  -1.  -2.  -2.  -3.  -3.  -4.  -4.  -5.   nan]\n",
      " [ 0.   0.   0.   0.   0.   0.   0.   0.   0.   nan]\n",
      " [ 1.   1.   2.   2.   3.   3.   4.   4.   5.   nan]\n",
      " [ 4.   4.   8.   8.  12.  12.  16.  16.  20.   nan]\n",
      " [ 9.   9.  18.  18.  27.  27.  36.  36.  45.   nan]\n",
      " [ 2.   2.   4.   4.   6.   6.   8.   8.  10.   nan]\n",
      " [ 1.   1.   2.   2.   3.   3.   4.   4.   5.   nan]\n",
      " [ 4.5  4.5  9.   9.  13.5 13.5 18.  18.  22.5  nan]\n",
      " [ 1.1  1.1  2.2  2.2  3.3  3.3  4.4  4.4  5.5  nan]\n",
      " [-0.9 -0.9 -1.8 -1.8 -2.7 -2.7 -3.6 -3.6 -4.5  nan]]\n"
     ]
    }
   ],
   "source": [
    "# inner product two ways\n",
    "print(np.inner(x, y))\n",
    "print(x @ y)\n",
    "\n",
    "# outer product, two ways\n",
    "print(np.outer(x ,y))\n",
    "print(x[:, None] @ y[None])"
   ]
  },
  {
   "cell_type": "markdown",
   "id": "5a369250",
   "metadata": {},
   "source": [
    "### Solve\n",
    "\n",
    "For matlab's `x / y`, we need `np.linalg.solve` or `np.linalg.inv`. These aren't defined on vectors, though."
   ]
  },
  {
   "cell_type": "markdown",
   "id": "74736f43",
   "metadata": {},
   "source": [
    "## More Element-wise operations\n",
    "\n",
    "Basically any function we want will operate element-wise on arrays.\n",
    "\n",
    "By default, numpy will complain about out-of-domain inputs to functions like `np.log`. In the following codeblock I use a context manager to silence these errors temporarily. You can see it correctly evaluates negative inputs to `np.nan`, and 0 to `-np.inf`.\n",
    "\n",
    "I also used a the `np.printoptions` context manager to force numpy to show me fewer decimal places (I wanted everything on one line)"
   ]
  },
  {
   "cell_type": "code",
   "execution_count": 52,
   "id": "13279654",
   "metadata": {},
   "outputs": [
    {
     "name": "stdout",
     "output_type": "stream",
     "text": [
      "[  nan  -inf 0.    1.386 2.197 0.693 0.    1.504 0.095   nan]\n",
      "[   0.368    1.       2.718   54.598 8103.084    7.389    2.718   90.017    3.004    0.407]\n"
     ]
    }
   ],
   "source": [
    "\n",
    "with np.errstate(all='ignore'), np.printoptions(linewidth=1000, precision=3, suppress=True):\n",
    "    # Log is the natural log, np.log10 is the base-10 log\n",
    "    print(np.log(x))\n",
    "    print(np.exp(x))"
   ]
  },
  {
   "cell_type": "markdown",
   "id": "6668b95e",
   "metadata": {},
   "source": [
    "## Combining functions and boolean logic\n",
    "\n",
    "No problem, it works as expected. Note that `nan` evaluates to `False` for all inequalities, including with itself."
   ]
  },
  {
   "cell_type": "code",
   "execution_count": 65,
   "id": "3b29713d",
   "metadata": {},
   "outputs": [
    {
     "name": "stdout",
     "output_type": "stream",
     "text": [
      "[  nan 0.    1.    2.    3.    1.414 1.    2.121 1.049   nan]\n",
      "True\n",
      "\n",
      "\n",
      "np.nan equals itself?:  False\n"
     ]
    }
   ],
   "source": [
    "with np.errstate(all='ignore'), np.printoptions(linewidth=1000, precision=3):\n",
    "    print(np.sqrt(x))\n",
    "    print(np.any(np.sqrt(x) >= 2))\n",
    "\n",
    "print('\\n')\n",
    "print('np.nan equals itself?: ', np.nan == np.nan)"
   ]
  },
  {
   "cell_type": "markdown",
   "id": "1ae2bb5f",
   "metadata": {},
   "source": [
    "## Sums\n",
    "\n",
    "You can make sums using the `.sum()` method."
   ]
  },
  {
   "cell_type": "code",
   "execution_count": 72,
   "id": "6a89d3ff",
   "metadata": {},
   "outputs": [
    {
     "name": "stdout",
     "output_type": "stream",
     "text": [
      "x.sum(): 20.700000000000003\n",
      "y.sum(): nan\n",
      "np.nansum(y): 85.0\n"
     ]
    }
   ],
   "source": [
    "print('x.sum():', x.sum())\n",
    "\n",
    "# By default, anything + np.nan is np.nan \n",
    "print('y.sum():', (y ** 2).sum())\n",
    "\n",
    "# Use np.nansum to ignore the nans when computing the map reduction\n",
    "print('np.nansum(y):', np.nansum(y ** 2))"
   ]
  },
  {
   "cell_type": "markdown",
   "id": "76636f52",
   "metadata": {},
   "source": [
    "## More compositions\n",
    "\n",
    "Expressions are evaluated inside to outside, so we can do many element-wise operations inside `np.sum` or `np.nansum`"
   ]
  },
  {
   "cell_type": "code",
   "execution_count": 73,
   "id": "9623f4b0",
   "metadata": {},
   "outputs": [
    {
     "data": {
      "text/plain": [
       "233.5"
      ]
     },
     "execution_count": 73,
     "metadata": {},
     "output_type": "execute_result"
    }
   ],
   "source": [
    "np.nansum(x * y ** 2)"
   ]
  },
  {
   "cell_type": "markdown",
   "id": "27feb7c4",
   "metadata": {},
   "source": [
    "## Counting `True` elements\n",
    "\n",
    "Python is a dynamically typed language, which means you can do things like add booleans together. In this case, `True` is re-cast to `1`, and `False` to `0`. The number of `True` elements in a boolean mask is thus just the sum of the mask."
   ]
  },
  {
   "cell_type": "code",
   "execution_count": 74,
   "id": "e56c1b01",
   "metadata": {},
   "outputs": [
    {
     "data": {
      "text/plain": [
       "7"
      ]
     },
     "execution_count": 74,
     "metadata": {},
     "output_type": "execute_result"
    }
   ],
   "source": [
    "(x > 0).sum()"
   ]
  },
  {
   "cell_type": "markdown",
   "id": "0d6a5b7c",
   "metadata": {},
   "source": [
    "## Broadcasting\n",
    "\n",
    "Certain element-wise operations can be broadcast together, even when the shapes are not identical. f(x, y), where x is `(n, 1)` and y is `(1, m`), for example, will result in a `(n, m)` matrix where the `i,j`th element is `f(x[i, 0], y[0, j])`\n",
    "\n",
    "In this first example, `f` is multiplication:"
   ]
  },
  {
   "cell_type": "code",
   "execution_count": 77,
   "id": "7de56753",
   "metadata": {},
   "outputs": [
    {
     "data": {
      "text/plain": [
       "array([[-1.,  1.],\n",
       "       [-1.,  1.],\n",
       "       [-2.,  2.],\n",
       "       [-2.,  2.],\n",
       "       [-3.,  3.],\n",
       "       [-3.,  3.],\n",
       "       [-4.,  4.],\n",
       "       [-4.,  4.],\n",
       "       [-5.,  5.],\n",
       "       [nan, nan]])"
      ]
     },
     "execution_count": 77,
     "metadata": {},
     "output_type": "execute_result"
    }
   ],
   "source": [
    "# Note the double list in np.array to make a row vector\n",
    "y[:, None] * np.array([[-1, 1]])"
   ]
  },
  {
   "cell_type": "markdown",
   "id": "47fcf18f",
   "metadata": {},
   "source": [
    "Here we see addition"
   ]
  },
  {
   "cell_type": "code",
   "execution_count": 78,
   "id": "1eec943c",
   "metadata": {},
   "outputs": [
    {
     "data": {
      "text/plain": [
       "array([[-2. , -1. ,  0. ],\n",
       "       [-1. ,  0. ,  1. ],\n",
       "       [ 0. ,  1. ,  2. ],\n",
       "       [ 3. ,  4. ,  5. ],\n",
       "       [ 8. ,  9. , 10. ],\n",
       "       [ 1. ,  2. ,  3. ],\n",
       "       [ 0. ,  1. ,  2. ],\n",
       "       [ 3.5,  4.5,  5.5],\n",
       "       [ 0.1,  1.1,  2.1],\n",
       "       [-1.9, -0.9,  0.1]])"
      ]
     },
     "execution_count": 78,
     "metadata": {},
     "output_type": "execute_result"
    }
   ],
   "source": [
    "x[:, None] + np.array([[-1, 0, 1]])"
   ]
  },
  {
   "cell_type": "markdown",
   "id": "00090323",
   "metadata": {},
   "source": [
    "## Dimension reduction\n",
    "For ndarrays, summation can be done over a specified axis using the `axis` argument"
   ]
  },
  {
   "cell_type": "code",
   "execution_count": 79,
   "id": "acfabf2d",
   "metadata": {},
   "outputs": [
    {
     "data": {
      "text/plain": [
       "array([0., 0., 0., 0., 0., 0., 0., 0., 0., 0.])"
      ]
     },
     "execution_count": 79,
     "metadata": {},
     "output_type": "execute_result"
    }
   ],
   "source": [
    "np.nansum(y[:, None] * np.array([[-1, 1]]), axis=1)"
   ]
  },
  {
   "cell_type": "markdown",
   "id": "724b0e55",
   "metadata": {},
   "source": [
    "## Working with 2d arrays\n",
    "\n",
    "Also known as matrices."
   ]
  },
  {
   "cell_type": "code",
   "execution_count": 80,
   "id": "9332edc0",
   "metadata": {},
   "outputs": [],
   "source": [
    "X = np.array([[1, 4, 7],\n",
    "              [2, 5, 8],\n",
    "              [3, 6, 9]])"
   ]
  },
  {
   "cell_type": "markdown",
   "id": "de32dfc7",
   "metadata": {},
   "source": [
    "Transpose with the `.T` method"
   ]
  },
  {
   "cell_type": "code",
   "execution_count": 81,
   "id": "794c07ea",
   "metadata": {},
   "outputs": [
    {
     "name": "stdout",
     "output_type": "stream",
     "text": [
      "[[1 2 3]\n",
      " [4 5 6]\n",
      " [7 8 9]]\n"
     ]
    }
   ],
   "source": [
    "print(X.T)"
   ]
  },
  {
   "cell_type": "markdown",
   "id": "bf8d6953",
   "metadata": {},
   "source": [
    "Shape is still the `.shape` property"
   ]
  },
  {
   "cell_type": "code",
   "execution_count": 82,
   "id": "b739c2ee",
   "metadata": {},
   "outputs": [
    {
     "data": {
      "text/plain": [
       "(3, 3)"
      ]
     },
     "execution_count": 82,
     "metadata": {},
     "output_type": "execute_result"
    }
   ],
   "source": [
    "X.shape"
   ]
  },
  {
   "cell_type": "markdown",
   "id": "7f864b5b",
   "metadata": {},
   "source": [
    "Determinant is in `np.linalg.det`"
   ]
  },
  {
   "cell_type": "code",
   "execution_count": 83,
   "id": "ed82fed2",
   "metadata": {},
   "outputs": [
    {
     "data": {
      "text/plain": [
       "0.0"
      ]
     },
     "execution_count": 83,
     "metadata": {},
     "output_type": "execute_result"
    }
   ],
   "source": [
    "np.linalg.det(X)"
   ]
  },
  {
   "cell_type": "markdown",
   "id": "4deed9d2",
   "metadata": {},
   "source": [
    "## Computing the trace in 3 ways"
   ]
  },
  {
   "cell_type": "markdown",
   "id": "612c4b95",
   "metadata": {},
   "source": [
    "Level 1 - Use `np.trace`"
   ]
  },
  {
   "cell_type": "code",
   "execution_count": 93,
   "id": "ccfbec60",
   "metadata": {},
   "outputs": [
    {
     "data": {
      "text/plain": [
       "15"
      ]
     },
     "execution_count": 93,
     "metadata": {},
     "output_type": "execute_result"
    }
   ],
   "source": [
    "np.trace(X)"
   ]
  },
  {
   "cell_type": "markdown",
   "id": "f218bb6f",
   "metadata": {},
   "source": [
    "Level 2 - Use `np.diag` to extract the diagonal, then take the sum"
   ]
  },
  {
   "cell_type": "code",
   "execution_count": 94,
   "id": "202d985d",
   "metadata": {},
   "outputs": [
    {
     "data": {
      "text/plain": [
       "15"
      ]
     },
     "execution_count": 94,
     "metadata": {},
     "output_type": "execute_result"
    }
   ],
   "source": [
    "np.diag(X).sum()"
   ]
  },
  {
   "cell_type": "markdown",
   "id": "66b53921",
   "metadata": {},
   "source": [
    "Level 3 - Use Einstein notation"
   ]
  },
  {
   "cell_type": "code",
   "execution_count": 95,
   "id": "e3336715",
   "metadata": {},
   "outputs": [
    {
     "data": {
      "text/plain": [
       "15"
      ]
     },
     "execution_count": 95,
     "metadata": {},
     "output_type": "execute_result"
    }
   ],
   "source": [
    "np.einsum('nn', X)"
   ]
  },
  {
   "cell_type": "markdown",
   "id": "919e84fe",
   "metadata": {},
   "source": [
    "## Set diagonal elements\n",
    "\n",
    "Numpy offers a suite of index functions to quickly set parts of matrices. In this case, we want `np.diag_indices_from`"
   ]
  },
  {
   "cell_type": "code",
   "execution_count": 97,
   "id": "a3475cf9",
   "metadata": {},
   "outputs": [
    {
     "data": {
      "text/plain": [
       "array([[7, 4, 7],\n",
       "       [2, 8, 8],\n",
       "       [3, 6, 9]])"
      ]
     },
     "execution_count": 97,
     "metadata": {},
     "output_type": "execute_result"
    }
   ],
   "source": [
    "X[np.diag_indices_from(X)] = [7, 8, 9]\n",
    "X"
   ]
  },
  {
   "cell_type": "markdown",
   "id": "df21bb2b",
   "metadata": {},
   "source": [
    "## Eigenvalues\n",
    "\n",
    "We can get the eigenvalues of a matrix with `np.linalg.eigvals`. \n",
    "\n",
    "A matrix is positive definite if all eigenvalues are positive, so we will also check that and print something if it's true"
   ]
  },
  {
   "cell_type": "code",
   "execution_count": 100,
   "id": "8a42ea1e",
   "metadata": {},
   "outputs": [
    {
     "name": "stdout",
     "output_type": "stream",
     "text": [
      "Matrix is positive definite\n"
     ]
    }
   ],
   "source": [
    "eigs = np.linalg.eigvals(X)\n",
    "if np.all(eigs > 0):\n",
    "    print('Matrix is positive definite')\n",
    "elif np.all(eigs < 0):\n",
    "    print('Matrix is negative definite')"
   ]
  },
  {
   "cell_type": "markdown",
   "id": "716a7380",
   "metadata": {},
   "source": [
    "## Matrix inversion\n",
    "\n",
    "You can use `np.linalg.inv`, but `np.linalg.solve(X, np.eye(X.shape[0])` is typically recommended for numerical stability reasons. "
   ]
  },
  {
   "cell_type": "code",
   "execution_count": 103,
   "id": "b7683b02",
   "metadata": {},
   "outputs": [
    {
     "data": {
      "text/plain": [
       "True"
      ]
     },
     "execution_count": 103,
     "metadata": {},
     "output_type": "execute_result"
    }
   ],
   "source": [
    "X_inv1 = np.linalg.inv(X)\n",
    "X_inv2 = np.linalg.solve(X, np.eye(X.shape[0]))\n",
    "\n",
    "# np.allclose checks if two arrays are equivalent up to requested accuracy\n",
    "np.allclose(X_inv1, X_inv2)"
   ]
  },
  {
   "cell_type": "markdown",
   "id": "4de36961",
   "metadata": {},
   "source": [
    "## Matrix-Vector multiplication\n",
    "\n",
    "It also uses `@`"
   ]
  },
  {
   "cell_type": "code",
   "execution_count": 104,
   "id": "e5f13469",
   "metadata": {},
   "outputs": [
    {
     "name": "stdout",
     "output_type": "stream",
     "text": [
      "[[19 40 49]]\n",
      "[[ 7 12 14]\n",
      " [ 2 24 16]\n",
      " [ 3 18 18]]\n",
      "[[33]\n",
      " [42]\n",
      " [39]]\n"
     ]
    }
   ],
   "source": [
    "a = np.array([1, 3, 2]).reshape(-1, 1) # column vector\n",
    "print(a.T @ X)\n",
    "\n",
    "# This will broadcast a across the rows of X\n",
    "print(a.T * X)\n",
    "\n",
    "print(X @ a)"
   ]
  },
  {
   "cell_type": "markdown",
   "id": "545da29a",
   "metadata": {},
   "source": [
    "## Chained matrix multiplication\n",
    "\n",
    "`@` can be used like any other arithmetic operator, but numpy also offers `np.linalg.multi_dot`, which does some optimizations to speed things up. In this case though, `multi_dot` is actually slower."
   ]
  },
  {
   "cell_type": "code",
   "execution_count": 110,
   "id": "fba3e6c2",
   "metadata": {},
   "outputs": [
    {
     "name": "stdout",
     "output_type": "stream",
     "text": [
      "1.22 µs ± 8.61 ns per loop (mean ± std. dev. of 7 runs, 1,000,000 loops each)\n"
     ]
    }
   ],
   "source": [
    "%timeit a.T @ X @ a"
   ]
  },
  {
   "cell_type": "code",
   "execution_count": 111,
   "id": "e177c52c",
   "metadata": {},
   "outputs": [
    {
     "name": "stdout",
     "output_type": "stream",
     "text": [
      "2.64 µs ± 22.3 ns per loop (mean ± std. dev. of 7 runs, 100,000 loops each)\n"
     ]
    }
   ],
   "source": [
    "%timeit np.linalg.multi_dot([a.T, X, a])"
   ]
  },
  {
   "cell_type": "code",
   "execution_count": 112,
   "id": "cbfaac7e",
   "metadata": {},
   "outputs": [
    {
     "data": {
      "text/plain": [
       "True"
      ]
     },
     "execution_count": 112,
     "metadata": {},
     "output_type": "execute_result"
    }
   ],
   "source": [
    "B1 = a.T @ X @ a\n",
    "B2 = np.linalg.multi_dot([a.T, X, a])\n",
    "np.allclose(B1, B2)"
   ]
  },
  {
   "cell_type": "markdown",
   "id": "dd8fcf5b",
   "metadata": {},
   "source": [
    "## Defining Matrices\n",
    "\n",
    "There are helper functions `np.hstack` and `np.vstack` that stack matrices horizontally and vertically, respectively."
   ]
  },
  {
   "cell_type": "code",
   "execution_count": 115,
   "id": "233c1f93",
   "metadata": {},
   "outputs": [
    {
     "name": "stdout",
     "output_type": "stream",
     "text": [
      "[[1. 2. 3. 1. 0. 0.]\n",
      " [4. 5. 6. 0. 1. 0.]\n",
      " [7. 8. 9. 0. 0. 1.]]\n",
      "[[1. 2. 3.]\n",
      " [4. 5. 6.]\n",
      " [7. 8. 9.]\n",
      " [1. 0. 0.]\n",
      " [0. 1. 0.]\n",
      " [0. 0. 1.]]\n"
     ]
    }
   ],
   "source": [
    "I = np.eye(3)\n",
    "A = np.arange(1, 10).reshape(3, 3)\n",
    "Y = np.hstack([A, I])\n",
    "Z = np.vstack([A, I])\n",
    "\n",
    "print(Y)\n",
    "print(Z)"
   ]
  },
  {
   "cell_type": "markdown",
   "id": "2754a981",
   "metadata": {},
   "source": [
    "## Making vectors"
   ]
  },
  {
   "cell_type": "code",
   "execution_count": 122,
   "id": "54ad2a96",
   "metadata": {},
   "outputs": [],
   "source": [
    "# Python always starts from 0, and arange is right-exclusive\n",
    "x1 = np.arange(1, 10)\n",
    "\n",
    "# np.tile concatenates an array to itself N times\n",
    "x2 = np.tile([0, 1], 5)\n",
    "\n",
    "# np.ones returns an array of the requested size filled with 1's\n",
    "x3 = np.ones(10)\n",
    "\n",
    "# Tile can also be done using Python's built in multiplication overload on lists\n",
    "x4 = np.array([-1, 1] * 5)\n",
    "\n",
    "# np.arange can start and stop from anywhere\n",
    "x5 = np.arange(1980, 2011)\n",
    "\n",
    "#For the last one we can just use broadcast division\n",
    "x6 = np.arange(101) / 100"
   ]
  },
  {
   "cell_type": "code",
   "execution_count": 123,
   "id": "2419f84e",
   "metadata": {},
   "outputs": [
    {
     "name": "stdout",
     "output_type": "stream",
     "text": [
      "[1 2 3 4 5]\n",
      "[0 1 0 1 0]\n",
      "[1. 1. 1. 1. 1.]\n",
      "[-1  1 -1  1 -1]\n",
      "[1980 1981 1982 1983 1984]\n",
      "[0.   0.01 0.02 0.03 0.04]\n"
     ]
    }
   ],
   "source": [
    "# Print the first 5 elements of each array\n",
    "for x in [x1, x2, x3, x4, x5, x6]:\n",
    "    print(x[:5])"
   ]
  },
  {
   "cell_type": "markdown",
   "id": "c00f36a8",
   "metadata": {},
   "source": [
    "## Linspace\n",
    "\n",
    "Numpy copied Matlab's linspace as `np.linspace`."
   ]
  },
  {
   "cell_type": "code",
   "execution_count": 125,
   "id": "21fa9315",
   "metadata": {},
   "outputs": [
    {
     "data": {
      "text/plain": [
       "array([-3.14159265, -3.1290011 , -3.11640955, -3.10381799, -3.09122644,\n",
       "       -3.07863488, -3.06604333, -3.05345178, -3.04086022, -3.02826867])"
      ]
     },
     "execution_count": 125,
     "metadata": {},
     "output_type": "execute_result"
    }
   ],
   "source": [
    "np.linspace(-np.pi, np.pi, 500)[:10]"
   ]
  },
  {
   "cell_type": "markdown",
   "id": "071ad573",
   "metadata": {},
   "source": [
    "## Question 25\n",
    "\n",
    "This is matlab specific about the order of computation for the `:` operator. In Python this is obvious, because we don't have access to a handy operator for making range arrays."
   ]
  },
  {
   "cell_type": "code",
   "execution_count": 126,
   "id": "ad606696",
   "metadata": {},
   "outputs": [
    {
     "name": "stdout",
     "output_type": "stream",
     "text": [
      "[ 1  2  3  4  5  6  7  8  9 10 11]\n",
      "[ 2  3  4  5  6  7  8  9 10 11]\n"
     ]
    }
   ],
   "source": [
    "print(np.arange(1, 11 + 1))\n",
    "print(np.arange(1, 11) + 1)"
   ]
  },
  {
   "cell_type": "markdown",
   "id": "93d93575",
   "metadata": {},
   "source": [
    "## Defining more vectors"
   ]
  },
  {
   "cell_type": "code",
   "execution_count": 128,
   "id": "06fbd45d",
   "metadata": {},
   "outputs": [],
   "source": [
    "# Note the double list to make a row vector\n",
    "x = np.array([[1, 1.1, 9, 8, 1, 4, 4, 1]])\n",
    "y = np.array([[1, 2, 3, 4, 4, 3, 2, np.nan]]).T\n",
    "\n",
    "# Use the `dtype` argument in the array constructor to get True/False from 1/0\n",
    "z = np.array([[1, 1, 0, 0, 1, 0, 0, 0]], dtype='bool').T"
   ]
  },
  {
   "cell_type": "markdown",
   "id": "53825196",
   "metadata": {},
   "source": [
    "## Slicing\n",
    "\n",
    "Slicing in numpy works just like matlab, EXCEPT indices start from `0` and are right exclusive. "
   ]
  },
  {
   "cell_type": "code",
   "execution_count": 150,
   "id": "30dfa471",
   "metadata": {},
   "outputs": [
    {
     "name": "stdout",
     "output_type": "stream",
     "text": [
      "[1.1 9.  8.  1.  4. ]\n",
      "[8. 1. 4.]\n",
      "[1. 1. 1.]\n",
      "[1.1 1.1 1.1 1.1 9.  9.  9.  9.  8.  8.  8.  8. ]\n",
      "[1. 2. 4.]\n",
      "[ 3.  4.  3.  2. nan]\n",
      "[[3.]\n",
      " [4.]\n",
      " [3.]\n",
      " [2.]]\n",
      "[[ 1.]\n",
      " [ 4.]\n",
      " [nan]]\n",
      "[1.  1.1 9.  8.  1.  4.  4. ]\n",
      "[1. 2. 3. 4. 4. 3. 2.]\n"
     ]
    }
   ],
   "source": [
    "print(x[0, 1:6]) #x(2:5)\n",
    "print(x[0, 3:-2]) #x(4:end-2) -- end is given by -1 in numpy\n",
    "print(x[0, [0, 4, 7]]) #x([1, 5, 8])\n",
    "print(x[0, np.arange(1, 4).repeat(4)])\n",
    "\n",
    "# Boolean masking works as expected\n",
    "print(y[z]) # No need to explicitly index the 0th row, because z is a 2d array\n",
    "print(y[~z])\n",
    "\n",
    "# TODO: Check matlab output for this\n",
    "print(y[x.squeeze() > 2])\n",
    "\n",
    "# TODO: Check matlab output for this\n",
    "print(y[x.squeeze() == 1])\n",
    "\n",
    "# TODO: Check matlab output for this\n",
    "print(x[0, ~np.isnan(y.ravel())])\n",
    "\n",
    "print(y[~np.isnan(y)])"
   ]
  },
  {
   "cell_type": "markdown",
   "id": "17244d8c",
   "metadata": {},
   "source": [
    "## Setting array elements via index\n",
    "\n",
    "Works as expected, with the caveats above.\n",
    "\n",
    "To get all indices corresponding to a condition, use `np.where`"
   ]
  },
  {
   "cell_type": "code",
   "execution_count": 153,
   "id": "2ed0725e",
   "metadata": {},
   "outputs": [
    {
     "data": {
      "text/plain": [
       "array([[ 1. ,  1.1,  9. ,  8. ,  1. , -4. , -4. ,  1. ]])"
      ]
     },
     "execution_count": 153,
     "metadata": {},
     "output_type": "execute_result"
    }
   ],
   "source": [
    "x2 = x.copy() # If you don't copy you'll get unexpected results in some cases\n",
    "\n",
    "x2[np.where(x2 == 4)] = -4\n",
    "x2"
   ]
  },
  {
   "cell_type": "markdown",
   "id": "2982cc06",
   "metadata": {},
   "source": [
    "## Setting array elements, continued"
   ]
  },
  {
   "cell_type": "code",
   "execution_count": 154,
   "id": "8851709e",
   "metadata": {},
   "outputs": [
    {
     "data": {
      "text/plain": [
       "array([[ nan,  1.1,  9. ,  8. ,  nan, -4. , -4. ,  nan]])"
      ]
     },
     "execution_count": 154,
     "metadata": {},
     "output_type": "execute_result"
    }
   ],
   "source": [
    "x2[np.where(x == 1)] = np.nan\n",
    "x2"
   ]
  },
  {
   "cell_type": "markdown",
   "id": "e1479444",
   "metadata": {},
   "source": [
    "## Setting array elements, cont cont"
   ]
  },
  {
   "cell_type": "code",
   "execution_count": 155,
   "id": "04d5d2ab",
   "metadata": {},
   "outputs": [],
   "source": [
    "# TODO: Check what this does in matlab, it's not obviously valid numpy code\n",
    "#x2[z] = []"
   ]
  },
  {
   "cell_type": "markdown",
   "id": "59e4a72f",
   "metadata": {},
   "source": [
    "## Matrices via hstack and reshape"
   ]
  },
  {
   "cell_type": "code",
   "execution_count": 166,
   "id": "17928ca1",
   "metadata": {},
   "outputs": [
    {
     "data": {
      "text/plain": [
       "array([[ 1,  5,  9, 12,  8,  4],\n",
       "       [ 2,  6, 10, 11,  7,  3],\n",
       "       [ 3,  7, 11, 10,  6,  2],\n",
       "       [ 4,  8, 12,  9,  5,  1]])"
      ]
     },
     "execution_count": 166,
     "metadata": {},
     "output_type": "execute_result"
    }
   ],
   "source": [
    "# Reshape works row-wise, so we have to reshape to the transposed matrix first\n",
    "M = np.hstack([np.arange(1, 13), np.arange(12, 0, -1)]).reshape(6, 4).T\n",
    "M"
   ]
  },
  {
   "cell_type": "markdown",
   "id": "4a0f7fc1",
   "metadata": {},
   "source": [
    "## More matrix slicing and masking"
   ]
  },
  {
   "cell_type": "code",
   "execution_count": 170,
   "id": "2f245c44",
   "metadata": {},
   "outputs": [
    {
     "name": "stdout",
     "output_type": "stream",
     "text": [
      "9\n",
      "[8 7 6 5]\n",
      "[ 2  6 10 11  7  3]\n",
      "[[10 11]\n",
      " [11 10]]\n",
      "[[ 2  6 10 11  7  3]\n",
      " [ 3  7 11 10  6  2]\n",
      " [ 4  8 12  9  5  1]] 3\n",
      "[ 9 12  8  6 10 11  7  7 11 10  6  8 12  9]\n",
      "[[[1 5 4]]\n",
      "\n",
      " [[2 6 3]]\n",
      "\n",
      " [[3 7 2]]\n",
      "\n",
      " [[4 8 1]]]\n",
      "[[[ 3  7 11 10  6  2]\n",
      "  [ 4  8 12  9  5  1]]]\n",
      "[[[10  6  2]\n",
      "  [ 9  5  1]]]\n"
     ]
    }
   ],
   "source": [
    "print(M[0, 2]) # M(1,3)\n",
    "print(M[:, 4]) # M(:, 5)\n",
    "print(M[1, :]) # M(2, :)\n",
    "\n",
    "# the 2nd element of the slice doens't change relative to matlab syntax because\n",
    "# python is right exclusive and matlab is right inclusive\n",
    "print(M[1:3, 2:4]) # M(2:3, 3:4)\n",
    "print(M[1:4], 3) # M(2:4, 4)\n",
    "\n",
    "#TODO: Check these, I'm sure fancy indexing in numpy is different to matlab\n",
    "print(M[np.where(M > 5)])\n",
    "print(M[:, np.where(M[0, :] <= 5)])\n",
    "print(M[np.where(M[:, 1] > 6), :])\n",
    "print(M[np.where(M[:, 1] > 6), 3:6])"
   ]
  },
  {
   "cell_type": "markdown",
   "id": "e1c2fa42",
   "metadata": {},
   "source": [
    "## Conditional slicing\n",
    "\n",
    "Print rows of M where column 5 is at least 3 times larger than column 6"
   ]
  },
  {
   "cell_type": "code",
   "execution_count": 175,
   "id": "de951888",
   "metadata": {},
   "outputs": [
    {
     "name": "stdout",
     "output_type": "stream",
     "text": [
      "[[ 3  7 11 10  6  2]\n",
      " [ 4  8 12  9  5  1]]\n"
     ]
    }
   ],
   "source": [
    "print(M[np.where(M[:, 4] >= 3 * M[:, 5])].squeeze())"
   ]
  },
  {
   "cell_type": "markdown",
   "id": "a23c032f",
   "metadata": {},
   "source": [
    "## Element-wise conditional counts, 1\n",
    "\n",
    "Count the number of elements of M that are larger than 7"
   ]
  },
  {
   "cell_type": "code",
   "execution_count": 176,
   "id": "da8d290f",
   "metadata": {},
   "outputs": [
    {
     "data": {
      "text/plain": [
       "10"
      ]
     },
     "execution_count": 176,
     "metadata": {},
     "output_type": "execute_result"
    }
   ],
   "source": [
    "(M > 7).sum()"
   ]
  },
  {
   "cell_type": "markdown",
   "id": "fe60c196",
   "metadata": {},
   "source": [
    "## Element-wise conditional counts, 2\n",
    "\n",
    "Count the number of elements of M in row 2 that are smaller than their neighbors in row 1."
   ]
  },
  {
   "cell_type": "code",
   "execution_count": 179,
   "id": "da3f4e1d",
   "metadata": {},
   "outputs": [
    {
     "data": {
      "text/plain": [
       "3"
      ]
     },
     "execution_count": 179,
     "metadata": {},
     "output_type": "execute_result"
    }
   ],
   "source": [
    "(M[2] < M[1]).sum()"
   ]
  },
  {
   "cell_type": "markdown",
   "id": "23f935b6",
   "metadata": {},
   "source": [
    "## Element-wise conditional counts, 3\n",
    "\n",
    "Count the number of elements of M that are larger than their left neighbor"
   ]
  },
  {
   "cell_type": "code",
   "execution_count": 186,
   "id": "539c762a",
   "metadata": {},
   "outputs": [
    {
     "data": {
      "text/plain": [
       "10"
      ]
     },
     "execution_count": 186,
     "metadata": {},
     "output_type": "execute_result"
    }
   ],
   "source": [
    "# Use a column shift. The 0th column has no left neighbor, and the last column \n",
    "# is nobody's left neighbor, so compare like this:\n",
    "(M[:, 1:] > M[:, :-1]).sum()"
   ]
  }
 ],
 "metadata": {
  "kernelspec": {
   "display_name": "Python 3 (ipykernel)",
   "language": "python",
   "name": "python3"
  },
  "language_info": {
   "codemirror_mode": {
    "name": "ipython",
    "version": 3
   },
   "file_extension": ".py",
   "mimetype": "text/x-python",
   "name": "python",
   "nbconvert_exporter": "python",
   "pygments_lexer": "ipython3",
   "version": "3.10.10"
  },
  "toc": {
   "base_numbering": 1,
   "nav_menu": {},
   "number_sections": true,
   "sideBar": true,
   "skip_h1_title": false,
   "title_cell": "Table of Contents",
   "title_sidebar": "Contents",
   "toc_cell": false,
   "toc_position": {},
   "toc_section_display": true,
   "toc_window_display": false
  }
 },
 "nbformat": 4,
 "nbformat_minor": 5
}
