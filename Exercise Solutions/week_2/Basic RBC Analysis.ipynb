{
 "cells": [
  {
   "cell_type": "code",
   "execution_count": 1,
   "id": "ede81338",
   "metadata": {},
   "outputs": [],
   "source": [
    "import gEconpy as ge\n",
    "import gEconpy.plotting as gp"
   ]
  },
  {
   "cell_type": "markdown",
   "id": "0507bf56",
   "metadata": {},
   "source": [
    "# gEconpy preliminaries"
   ]
  },
  {
   "cell_type": "markdown",
   "id": "3ba30bba",
   "metadata": {},
   "source": [
    "## GCN file\n",
    "\n",
    "I've already written the model into a GCN file and saved it. Here is the file."
   ]
  },
  {
   "cell_type": "code",
   "execution_count": 2,
   "id": "965d76db",
   "metadata": {},
   "outputs": [
    {
     "name": "stdout",
     "output_type": "stream",
     "text": [
      "assumptions\n",
      "{\n",
      "\tpositive\n",
      "\t{\n",
      "\t\tK[], A[], mc[], r[], w[], Y[], alpha;\n",
      "\t};\n",
      "};\n",
      "\n",
      "block HOUSEHOLD\n",
      "{\n",
      "\tdefinitions\n",
      "\t{\n",
      "\t\tu[] = gamma * log(C[]) + psi * log(L[]);\n",
      "\t};\n",
      "\n",
      "\tobjective\n",
      "\t{\n",
      "\t\tU[] = u[] + beta * E[][U[1]];\n",
      "\t};\n",
      "\n",
      "\tcontrols\n",
      "\t{\n",
      "\t\tC[], I[], K[], L[], N[];\n",
      "\t};\n",
      "\n",
      "\tconstraints\n",
      "\t{\n",
      "\t\tC[] + I[] = w[] * N[] + r[] * K[-1] + Div[] : lambda[];\n",
      "\t\tN[] + L[] = 1;\n",
      "\t\tK[] = (1 - delta) * K[-1] + I[];\n",
      "\t};\n",
      "\n",
      "\tcalibration\n",
      "\t{\n",
      "\t\tbeta = 0.98;\n",
      "\t\tdelta = 0.035;\n",
      "\t\tgamma = 1;\n",
      "\t\tN[ss] = 0.33 -> psi;\n",
      "\t};\n",
      "};\n",
      "\n",
      "block FIRM\n",
      "{\n",
      "\tobjective\n",
      "\t{\n",
      "\t\tTC[] = -(w[] * N[] + r[] * K[-1]);\n",
      "\t};\n",
      "\n",
      "\tcontrols\n",
      "\t{\n",
      "\t\tN[], K[-1];\n",
      "\t};\n",
      "\n",
      "\tconstraints\n",
      "\t{\n",
      "\t\tY[] = A[] * K[-1] ^ alpha * N[] ^ (1 - alpha): mc[];\n",
      "\t};\n",
      "\n",
      "\tidentities\n",
      "\t{\n",
      "\t\tmc[] = 1;\n",
      "\t\tDiv[] = Y[] + TC[];\n",
      "\t};\n",
      "\t\n",
      "\tcalibration\n",
      "\t{\n",
      "\t\talpha = 0.33;\n",
      "\t};\n",
      "};\n",
      "\n",
      "block EXOGENOUS\n",
      "{\n",
      "\tidentities\n",
      "\t{\n",
      "\t\tlog(A[]) = rho * log(A[-1]) + epsilon[];\n",
      "\t};\n",
      "\n",
      "\tshocks\n",
      "\t{\n",
      "\t\tepsilon[];\n",
      "\t};\n",
      "\n",
      "\tcalibration\n",
      "\t{\n",
      "\t\trho = 0.95;\n",
      "\t};\n",
      "};\n",
      "\n"
     ]
    }
   ],
   "source": [
    "with open('rbc_log_utility.gcn', 'r') as file:\n",
    "    print(file.read())"
   ]
  },
  {
   "cell_type": "markdown",
   "id": "9560ce6c",
   "metadata": {},
   "source": [
    "## Load the model\n",
    "\n",
    "To better see how things work under the hood, I am disabling automatic symbolic simplification. This is never actually recommended."
   ]
  },
  {
   "cell_type": "code",
   "execution_count": 3,
   "id": "9c9d50e6",
   "metadata": {},
   "outputs": [
    {
     "name": "stdout",
     "output_type": "stream",
     "text": [
      "Model Building Complete.\n",
      "Found:\n",
      "\t16 equations\n",
      "\t16 variables\n",
      "\t1 stochastic shock\n",
      "\t\t 0 / 1 has a defined prior. \n",
      "\t5 parameter\n",
      "\t\t 0 / 5 has a defined prior. \n",
      "\t1 calibrating equation\n",
      "\t1 parameter to calibrate\n",
      " Model appears well defined and ready to proceed to solving.\n",
      "\n"
     ]
    }
   ],
   "source": [
    "mod_log = ge.gEconModel('rbc_log_utility.gcn', \n",
    "                    simplify_tryreduce=False, \n",
    "                    simplify_blocks=False,\n",
    "                    simplify_constants=False)"
   ]
  },
  {
   "cell_type": "markdown",
   "id": "fa32e8d3",
   "metadata": {},
   "source": [
    "# Questions"
   ]
  },
  {
   "cell_type": "markdown",
   "id": "9ce8c220",
   "metadata": {},
   "source": [
    "## Household First Order Conditions\n",
    "\n",
    "gEconpy derives first order conditions automatically. We can access these block-by-block by looking into the `mod_logblocks` property. The first 3 equations are the model constraints, then the objective, then the derivatives of the block lagrangian, in the order they were entered by the user."
   ]
  },
  {
   "cell_type": "code",
   "execution_count": 4,
   "id": "9032a404",
   "metadata": {},
   "outputs": [
    {
     "data": {
      "text/latex": [
       "$\\displaystyle \\frac{d}{d C_{t}} \\mathcal L = \\frac{\\gamma}{C_{t}} - \\lambda_{t}$"
      ],
      "text/plain": [
       "Eq(Derivative(\\mathcal L, C_t), gamma/C_t - lambda_t)"
      ]
     },
     "metadata": {},
     "output_type": "display_data"
    },
    {
     "data": {
      "text/latex": [
       "$\\displaystyle \\frac{d}{d I_{t}} \\mathcal L = \\lambda^{H}_{2 t} - \\lambda_{t}$"
      ],
      "text/plain": [
       "Eq(Derivative(\\mathcal L, I_t), lambda__H_2_t - lambda_t)"
      ]
     },
     "metadata": {},
     "output_type": "display_data"
    },
    {
     "data": {
      "text/latex": [
       "$\\displaystyle \\frac{d}{d K_{t}} \\mathcal L = \\beta \\left(- \\lambda^{H}_{2 t+1} \\left(\\delta - 1\\right) + \\lambda_{t+1} r_{t+1}\\right) - \\lambda^{H}_{2 t}$"
      ],
      "text/plain": [
       "Eq(Derivative(\\mathcal L, K_t), beta*(-lambda__H_2_t+1*(delta - 1) + lambda_t+1*r_t+1) - lambda__H_2_t)"
      ]
     },
     "metadata": {},
     "output_type": "display_data"
    },
    {
     "data": {
      "text/latex": [
       "$\\displaystyle \\frac{d}{d L_{t}} \\mathcal L = \\frac{\\psi}{L_{t}} - \\lambda^{H}_{1 t}$"
      ],
      "text/plain": [
       "Eq(Derivative(\\mathcal L, L_t), psi/L_t - lambda__H_1_t)"
      ]
     },
     "metadata": {},
     "output_type": "display_data"
    },
    {
     "data": {
      "text/latex": [
       "$\\displaystyle \\frac{d}{d N_{t}} \\mathcal L = - \\lambda^{H}_{1 t} + \\lambda_{t} w_{t}$"
      ],
      "text/plain": [
       "Eq(Derivative(\\mathcal L, N_t), -lambda__H_1_t + lambda_t*w_t)"
      ]
     },
     "metadata": {},
     "output_type": "display_data"
    }
   ],
   "source": [
    "import sympy as sp\n",
    "L = sp.Symbol('\\mathcal L')\n",
    "household_controls = mod_log.blocks['HOUSEHOLD'].controls\n",
    "household_equations = mod_log.blocks['HOUSEHOLD'].system_equations\n",
    "for control, eq in zip(household_controls, household_equations[-len(household_controls):]):\n",
    "    display(sp.Eq(sp.diff(L, control, evaluate=False), eq))"
   ]
  },
  {
   "cell_type": "code",
   "execution_count": 5,
   "id": "a4f7181a",
   "metadata": {},
   "outputs": [],
   "source": [
    "dL_dC, dL_dI, dL_dK, dL_dL, dL_dN = household_equations[4:]"
   ]
  },
  {
   "cell_type": "markdown",
   "id": "3e378767",
   "metadata": {},
   "source": [
    "To get the desired equations, we need to do a bit of manipulation. This is easy to do because all of these expressions are sympy expressions, allowing for fast symbolic solving/substitution. \n",
    "\n",
    "First, we need to add the model variables to the notebook global namespace so we can refer to them."
   ]
  },
  {
   "cell_type": "code",
   "execution_count": 6,
   "id": "b46d1cfd",
   "metadata": {},
   "outputs": [],
   "source": [
    "all_vars = [v for x in mod_log.variables for v in [x.step_backward(), x, x.step_forward(), x.to_ss()]]\n",
    "var_dict = {}\n",
    "for x in all_vars:\n",
    "    var_dict[x.safe_name] = x\n",
    "for x in mod_log.free_param_dict.to_sympy().keys():\n",
    "    var_dict[x.name] = x\n",
    "for x in mod_log.params_to_calibrate:\n",
    "    var_dict[x.name] = x\n",
    "    \n",
    "globals().update(var_dict)"
   ]
  },
  {
   "cell_type": "markdown",
   "id": "8e855e34",
   "metadata": {},
   "source": [
    "### Euler Equation"
   ]
  },
  {
   "cell_type": "code",
   "execution_count": 7,
   "id": "2f7c487d",
   "metadata": {},
   "outputs": [],
   "source": [
    "from gEconpy.shared.utilities import step_equation_forward, step_equation_backward, eq_to_ss\n",
    "lam = sp.solve(dL_dC, lambda_t)[0]\n",
    "lam2 = sp.solve(dL_dI.subs({lambda_t:lam}), lambda__H_2_t)[0]\n",
    "euler = dL_dK.subs({lambda__H_2_t:lam2, \n",
    "                    lambda__H_2_tp1:step_equation_forward(lam2),\n",
    "                    lambda_tp1:step_equation_forward(lam2)})\n",
    "euler = sp.Eq(C_tp1 / C_t, sp.solve(euler, C_tp1)[0] / C_t)"
   ]
  },
  {
   "cell_type": "code",
   "execution_count": 8,
   "id": "f5df707d",
   "metadata": {},
   "outputs": [
    {
     "data": {
      "text/latex": [
       "$\\displaystyle \\frac{C_{t+1}}{C_{t}} = \\beta \\left(- \\delta + r_{t+1} + 1\\right)$"
      ],
      "text/plain": [
       "Eq(C_t+1/C_t, beta*(-delta + r_t+1 + 1))"
      ]
     },
     "execution_count": 8,
     "metadata": {},
     "output_type": "execute_result"
    }
   ],
   "source": [
    "euler"
   ]
  },
  {
   "cell_type": "markdown",
   "id": "35830176",
   "metadata": {},
   "source": [
    "### Labor supply curve"
   ]
  },
  {
   "cell_type": "code",
   "execution_count": 9,
   "id": "4d831801",
   "metadata": {},
   "outputs": [
    {
     "data": {
      "text/latex": [
       "$\\displaystyle w_{t} = \\frac{\\psi C_{t}}{\\gamma L_{t}}$"
      ],
      "text/plain": [
       "Eq(w_t, psi*C_t/(gamma*L_t))"
      ]
     },
     "execution_count": 9,
     "metadata": {},
     "output_type": "execute_result"
    }
   ],
   "source": [
    "lam1 = sp.solve(dL_dN, lambda__H_1_t)[0]\n",
    "wage = sp.solve(dL_dL.subs({lambda__H_1_t:lam1, lambda_t:lam}), w_t)[0]\n",
    "sp.Eq(w_t, wage)"
   ]
  },
  {
   "cell_type": "markdown",
   "id": "4010a6f6",
   "metadata": {},
   "source": [
    "## Firm FOC\n",
    "\n",
    "In the exact same way, we can look into the firm FoC."
   ]
  },
  {
   "cell_type": "code",
   "execution_count": 10,
   "id": "577c1fc5",
   "metadata": {},
   "outputs": [
    {
     "data": {
      "text/latex": [
       "$\\displaystyle \\frac{d}{d N_{t}} \\mathcal L = A_{t} K_{t-1}^{\\alpha} N_{t}^{- \\alpha} mc_{t} \\left(1 - \\alpha\\right) - w_{t}$"
      ],
      "text/plain": [
       "Eq(Derivative(\\mathcal L, N_t), A_t*K_t-1**alpha*mc_t*(1 - alpha)/N_t**alpha - w_t)"
      ]
     },
     "metadata": {},
     "output_type": "display_data"
    },
    {
     "data": {
      "text/latex": [
       "$\\displaystyle \\frac{d}{d K_{t-1}} \\mathcal L = \\alpha A_{t} K_{t-1}^{\\alpha - 1} N_{t}^{1 - \\alpha} mc_{t} - r_{t}$"
      ],
      "text/plain": [
       "Eq(Derivative(\\mathcal L, K_t-1), alpha*A_t*K_t-1**(alpha - 1)*N_t**(1 - alpha)*mc_t - r_t)"
      ]
     },
     "metadata": {},
     "output_type": "display_data"
    }
   ],
   "source": [
    "firm_controls = mod_log.blocks['FIRM'].controls\n",
    "firm_equations = mod_log.blocks['FIRM'].system_equations\n",
    "for control, eq in zip(firm_controls, firm_equations[-len(firm_controls):]):\n",
    "    display(sp.Eq(L.diff(control, evaluate=False), eq))"
   ]
  },
  {
   "cell_type": "markdown",
   "id": "b22ff166",
   "metadata": {},
   "source": [
    "The only difference with the reference answers is the inclusion of the marginal cost term, which is normalized to 1 in perfect competition. "
   ]
  },
  {
   "cell_type": "code",
   "execution_count": 11,
   "id": "571a52cb",
   "metadata": {},
   "outputs": [
    {
     "data": {
      "text/latex": [
       "$\\displaystyle w_{t} = A_{t} K_{t-1}^{\\alpha} N_{t}^{- \\alpha} mc_{t} \\left(1 - \\alpha\\right)$"
      ],
      "text/plain": [
       "Eq(w_t, A_t*K_t-1**alpha*mc_t*(1 - alpha)/N_t**alpha)"
      ]
     },
     "execution_count": 11,
     "metadata": {},
     "output_type": "execute_result"
    }
   ],
   "source": [
    "sp.Eq(w_t, sp.solve(firm_equations[-2], w_t)[0])"
   ]
  },
  {
   "cell_type": "code",
   "execution_count": 12,
   "id": "fceba51f",
   "metadata": {},
   "outputs": [
    {
     "data": {
      "text/latex": [
       "$\\displaystyle r_{t} = \\alpha A_{t} K_{t-1}^{\\alpha - 1} N_{t}^{1 - \\alpha} mc_{t}$"
      ],
      "text/plain": [
       "Eq(r_t, alpha*A_t*K_t-1**(alpha - 1)*N_t**(1 - alpha)*mc_t)"
      ]
     },
     "execution_count": 12,
     "metadata": {},
     "output_type": "execute_result"
    }
   ],
   "source": [
    "sp.Eq(r_t, sp.solve(firm_equations[-1], r_t)[0])"
   ]
  },
  {
   "cell_type": "markdown",
   "id": "2c7aa44b",
   "metadata": {},
   "source": [
    "## Implicit Market Clearing\n",
    "\n",
    "This is easily shown by substituting the definition of total costs into the definition dividends, then putting the resulting term into the household budget constraint. "
   ]
  },
  {
   "cell_type": "code",
   "execution_count": 13,
   "id": "a578c3bf",
   "metadata": {},
   "outputs": [
    {
     "data": {
      "text/latex": [
       "$\\displaystyle - C_{t} - I_{t} + Y_{t}$"
      ],
      "text/plain": [
       "-C_t - I_t + Y_t"
      ]
     },
     "execution_count": 13,
     "metadata": {},
     "output_type": "execute_result"
    }
   ],
   "source": [
    "household_budget = household_equations[0]\n",
    "dividends = sp.solve(firm_equations[1], Div_t)[0]\n",
    "total_cost = sp.solve(firm_equations[3], TC_t)[0]\n",
    "\n",
    "household_budget.subs({Div_t:dividends,\n",
    "                       TC_t:total_cost}).simplify()"
   ]
  },
  {
   "cell_type": "markdown",
   "id": "e7d80eb1",
   "metadata": {},
   "source": [
    "## Derive the steady state\n",
    "\n",
    "Step 1: Get factor prices"
   ]
  },
  {
   "cell_type": "code",
   "execution_count": 14,
   "id": "1d1819e1",
   "metadata": {},
   "outputs": [
    {
     "data": {
      "text/latex": [
       "$\\displaystyle r_{ss} = \\delta - 1 + \\frac{1}{\\beta}$"
      ],
      "text/plain": [
       "Eq(r_ss, delta - 1 + 1/beta)"
      ]
     },
     "metadata": {},
     "output_type": "display_data"
    },
    {
     "data": {
      "text/latex": [
       "$\\displaystyle w_{ss} = r_{ss}^{\\frac{\\alpha}{\\alpha - 1}} \\left(\\alpha^{\\alpha} \\left(1 - \\alpha\\right)^{1 - \\alpha}\\right)^{- \\frac{1}{\\alpha - 1}}$"
      ],
      "text/plain": [
       "Eq(w_ss, r_ss**(alpha/(alpha - 1))/(alpha**alpha*(1 - alpha)**(1 - alpha))**(1/(alpha - 1)))"
      ]
     },
     "metadata": {},
     "output_type": "display_data"
    }
   ],
   "source": [
    "# r_ss is easy, it fall straight out of the Euler equation.\n",
    "r_ss_solved= sp.solve(eq_to_ss(euler), r_ss)[0]\n",
    "\n",
    "# for w_ss, plug factor demands back into the production function,\n",
    "# then solve for marginal cost\n",
    "am1 = sp.Symbol(r'\\alpha^{-1}', positive=True, real=True)\n",
    "production_func = mod_log.blocks['FIRM'].system_equations[2]\n",
    "\n",
    "capital_demand = sp.solve(firm_equations[-1]\n",
    "     .replace(K_tm1 ** (alpha - 1), K_tm1 ** alpha / K_tm1)\n",
    "     .subs(production_func + Y_t, Y_t), K_tm1)[0]\n",
    "\n",
    "labor_demand = sp.solve(firm_equations[-2]\n",
    "     .replace(N_t ** -alpha, N_t ** (1 - alpha) / N_t)\n",
    "     .subs(production_func + Y_t, Y_t), N_t)[0]\n",
    "\n",
    "mc_func = production_func.subs({K_tm1:capital_demand,\n",
    "                      N_t:labor_demand,\n",
    "                      A_t:1})\n",
    "\n",
    "mc_ss_solved = eq_to_ss(sp.solve(mc_func.replace(Y_t, 1).replace(mc_t, 1) + 1 - (1 / mc_t), mc_t)[0])\n",
    "w_ss_solved = sp.solve(1 - mc_ss_solved, w_ss)[0]\n",
    "\n",
    "display(sp.Eq(r_ss, r_ss_solved))\n",
    "display(sp.Eq(w_ss, w_ss_solved))"
   ]
  },
  {
   "cell_type": "markdown",
   "id": "ea2fc699",
   "metadata": {},
   "source": [
    "Step 2: Clear factor markets"
   ]
  },
  {
   "cell_type": "code",
   "execution_count": 15,
   "id": "1552c7d0",
   "metadata": {},
   "outputs": [
    {
     "data": {
      "text/latex": [
       "$\\displaystyle I_{ss} = \\frac{\\alpha \\delta Y_{ss}}{r_{ss}}$"
      ],
      "text/plain": [
       "Eq(I_ss, alpha*delta*Y_ss/r_ss)"
      ]
     },
     "execution_count": 15,
     "metadata": {},
     "output_type": "execute_result"
    }
   ],
   "source": [
    "# Capital Market\n",
    "capital_supply = eq_to_ss(household_equations[2])\n",
    "I_ss_solved = sp.solve(capital_supply.simplify().subs({K_ss:eq_to_ss(capital_demand), mc_ss:1}), I_ss)[0]\n",
    "sp.Eq(I_ss, I_ss_solved)"
   ]
  },
  {
   "cell_type": "code",
   "execution_count": 16,
   "id": "74bdebc5",
   "metadata": {},
   "outputs": [
    {
     "data": {
      "text/latex": [
       "$\\displaystyle \\frac{Y_{t} mc_{t} \\left(1 - \\alpha\\right)}{w_{t}}$"
      ],
      "text/plain": [
       "Y_t*mc_t*(1 - alpha)/w_t"
      ]
     },
     "execution_count": 16,
     "metadata": {},
     "output_type": "execute_result"
    }
   ],
   "source": [
    "labor_demand"
   ]
  },
  {
   "cell_type": "code",
   "execution_count": 17,
   "id": "920f153a",
   "metadata": {},
   "outputs": [
    {
     "data": {
      "text/latex": [
       "$\\displaystyle C_{ss} = \\frac{\\gamma \\left(\\alpha Y_{ss} - Y_{ss} + w_{ss}\\right)}{\\psi}$"
      ],
      "text/plain": [
       "Eq(C_ss, gamma*(alpha*Y_ss - Y_ss + w_ss)/psi)"
      ]
     },
     "execution_count": 17,
     "metadata": {},
     "output_type": "execute_result"
    }
   ],
   "source": [
    "# Labor market\n",
    "labor_supply = w_ss - eq_to_ss(wage)\n",
    "C_ss_solved = sp.solve(labor_supply.subs({L_ss: (1 - N_ss), N_ss:eq_to_ss(labor_demand), mc_ss:1}), C_ss)[0]\n",
    "sp.Eq(C_ss, C_ss_solved)"
   ]
  },
  {
   "cell_type": "markdown",
   "id": "c4ebebb3",
   "metadata": {},
   "source": [
    "Step 3: Clear AS-AD"
   ]
  },
  {
   "cell_type": "code",
   "execution_count": 18,
   "id": "f9d2f269",
   "metadata": {},
   "outputs": [
    {
     "data": {
      "text/latex": [
       "$\\displaystyle Y_{ss} = - \\frac{\\gamma \\left(\\alpha^{\\alpha} \\left(1 - \\alpha\\right)^{1 - \\alpha}\\right)^{- \\frac{1}{\\alpha - 1}} \\left(\\delta - 1 + \\frac{1}{\\beta}\\right) \\left(\\delta - 1 + \\frac{1}{\\beta}\\right)^{\\frac{\\alpha}{\\alpha - 1}}}{\\alpha \\delta \\psi + \\alpha \\gamma \\left(\\delta - 1 + \\frac{1}{\\beta}\\right) - \\gamma \\left(\\delta - 1 + \\frac{1}{\\beta}\\right) - \\psi \\left(\\delta - 1 + \\frac{1}{\\beta}\\right)}$"
      ],
      "text/plain": [
       "Eq(Y_ss, -gamma*(delta - 1 + 1/beta)*(delta - 1 + 1/beta)**(alpha/(alpha - 1))/((alpha**alpha*(1 - alpha)**(1 - alpha))**(1/(alpha - 1))*(alpha*delta*psi + alpha*gamma*(delta - 1 + 1/beta) - gamma*(delta - 1 + 1/beta) - psi*(delta - 1 + 1/beta))))"
      ]
     },
     "execution_count": 18,
     "metadata": {},
     "output_type": "execute_result"
    }
   ],
   "source": [
    "Y_ss_solved = sp.solve(Y_ss - C_ss_solved - I_ss_solved, Y_ss)[0].subs({w_ss:w_ss_solved, r_ss:r_ss_solved}).subs({r_ss:r_ss_solved})\n",
    "sp.Eq(Y_ss, Y_ss_solved)"
   ]
  },
  {
   "cell_type": "markdown",
   "id": "c1f9eaca",
   "metadata": {},
   "source": [
    "Now that we have $Y_{ss}$ as a function of parameters only, we can go back and complete the whole system"
   ]
  },
  {
   "cell_type": "code",
   "execution_count": 19,
   "id": "c2b3f04f",
   "metadata": {},
   "outputs": [
    {
     "data": {
      "text/latex": [
       "$\\displaystyle C_{ss} = \\frac{\\gamma \\left(\\left(1 - \\alpha\\right) \\left(1 - \\alpha\\right)^{- \\alpha}\\right)^{- \\frac{1}{\\alpha - 1}} \\left(\\frac{\\beta \\delta - \\beta + 1}{\\alpha \\beta}\\right)^{\\frac{\\alpha}{\\alpha - 1}} \\left(\\alpha \\beta \\delta - \\beta \\delta + \\beta - 1\\right)}{\\alpha \\beta \\delta \\gamma + \\alpha \\beta \\delta \\psi - \\alpha \\beta \\gamma + \\alpha \\gamma - \\beta \\delta \\gamma - \\beta \\delta \\psi + \\beta \\gamma + \\beta \\psi - \\gamma - \\psi}$"
      ],
      "text/plain": [
       "Eq(C_ss, gamma*((beta*delta - beta + 1)/(alpha*beta))**(alpha/(alpha - 1))*(alpha*beta*delta - beta*delta + beta - 1)/(((1 - alpha)/(1 - alpha)**alpha)**(1/(alpha - 1))*(alpha*beta*delta*gamma + alpha*beta*delta*psi - alpha*beta*gamma + alpha*gamma - beta*delta*gamma - beta*delta*psi + beta*gamma + beta*psi - gamma - psi)))"
      ]
     },
     "metadata": {},
     "output_type": "display_data"
    },
    {
     "data": {
      "text/latex": [
       "$\\displaystyle I_{ss} = - \\frac{\\alpha \\delta \\gamma \\left(\\alpha^{\\alpha} \\left(1 - \\alpha\\right)^{1 - \\alpha}\\right)^{- \\frac{1}{\\alpha - 1}} \\left(\\delta - 1 + \\frac{1}{\\beta}\\right)^{\\frac{\\alpha}{\\alpha - 1}}}{\\alpha \\delta \\psi + \\alpha \\gamma \\left(\\delta - 1 + \\frac{1}{\\beta}\\right) - \\gamma \\left(\\delta - 1 + \\frac{1}{\\beta}\\right) - \\psi \\left(\\delta - 1 + \\frac{1}{\\beta}\\right)}$"
      ],
      "text/plain": [
       "Eq(I_ss, -alpha*delta*gamma*(delta - 1 + 1/beta)**(alpha/(alpha - 1))/((alpha**alpha*(1 - alpha)**(1 - alpha))**(1/(alpha - 1))*(alpha*delta*psi + alpha*gamma*(delta - 1 + 1/beta) - gamma*(delta - 1 + 1/beta) - psi*(delta - 1 + 1/beta))))"
      ]
     },
     "metadata": {},
     "output_type": "display_data"
    },
    {
     "data": {
      "text/latex": [
       "$\\displaystyle K_{ss} = - \\frac{\\alpha \\gamma \\left(\\alpha^{\\alpha} \\left(1 - \\alpha\\right)^{1 - \\alpha}\\right)^{- \\frac{1}{\\alpha - 1}} \\left(\\delta - 1 + \\frac{1}{\\beta}\\right)^{\\frac{\\alpha}{\\alpha - 1}}}{\\alpha \\delta \\psi + \\alpha \\gamma \\left(\\delta - 1 + \\frac{1}{\\beta}\\right) - \\gamma \\left(\\delta - 1 + \\frac{1}{\\beta}\\right) - \\psi \\left(\\delta - 1 + \\frac{1}{\\beta}\\right)}$"
      ],
      "text/plain": [
       "Eq(K_ss, -alpha*gamma*(delta - 1 + 1/beta)**(alpha/(alpha - 1))/((alpha**alpha*(1 - alpha)**(1 - alpha))**(1/(alpha - 1))*(alpha*delta*psi + alpha*gamma*(delta - 1 + 1/beta) - gamma*(delta - 1 + 1/beta) - psi*(delta - 1 + 1/beta))))"
      ]
     },
     "metadata": {},
     "output_type": "display_data"
    },
    {
     "data": {
      "text/latex": [
       "$\\displaystyle N_{ss} = - \\frac{\\gamma \\left(1 - \\alpha\\right) \\left(\\delta - 1 + \\frac{1}{\\beta}\\right)}{\\alpha \\delta \\psi + \\alpha \\gamma \\left(\\delta - 1 + \\frac{1}{\\beta}\\right) - \\gamma \\left(\\delta - 1 + \\frac{1}{\\beta}\\right) - \\psi \\left(\\delta - 1 + \\frac{1}{\\beta}\\right)}$"
      ],
      "text/plain": [
       "Eq(N_ss, -gamma*(1 - alpha)*(delta - 1 + 1/beta)/(alpha*delta*psi + alpha*gamma*(delta - 1 + 1/beta) - gamma*(delta - 1 + 1/beta) - psi*(delta - 1 + 1/beta)))"
      ]
     },
     "metadata": {},
     "output_type": "display_data"
    },
    {
     "data": {
      "text/latex": [
       "$\\displaystyle L_{ss} = \\frac{\\gamma \\left(1 - \\alpha\\right) \\left(\\delta - 1 + \\frac{1}{\\beta}\\right)}{\\alpha \\delta \\psi + \\alpha \\gamma \\left(\\delta - 1 + \\frac{1}{\\beta}\\right) - \\gamma \\left(\\delta - 1 + \\frac{1}{\\beta}\\right) - \\psi \\left(\\delta - 1 + \\frac{1}{\\beta}\\right)} + 1$"
      ],
      "text/plain": [
       "Eq(L_ss, gamma*(1 - alpha)*(delta - 1 + 1/beta)/(alpha*delta*psi + alpha*gamma*(delta - 1 + 1/beta) - gamma*(delta - 1 + 1/beta) - psi*(delta - 1 + 1/beta)) + 1)"
      ]
     },
     "metadata": {},
     "output_type": "display_data"
    }
   ],
   "source": [
    "C_ss_solved_2 = C_ss_solved.subs([(Y_ss, Y_ss_solved), (w_ss, w_ss_solved), (r_ss, r_ss_solved)]).simplify()\n",
    "I_ss_solved_2 = I_ss_solved.subs([(Y_ss, Y_ss_solved), (r_ss, r_ss_solved)])\n",
    "K_ss_solved_2 = sp.solve(capital_supply, K_ss)[0].subs([(I_ss, I_ss_solved_2), (Y_ss, Y_ss_solved)])\n",
    "N_ss_solved_2 = eq_to_ss(labor_demand).subs([(mc_ss, 1), (Y_ss, Y_ss_solved), (w_ss, w_ss_solved), (r_ss, r_ss_solved)])\n",
    "L_ss_solved_2 = 1 - eq_to_ss(labor_demand).subs([(mc_ss, 1), (Y_ss, Y_ss_solved), (w_ss, w_ss_solved), (r_ss, r_ss_solved)])\n",
    "\n",
    "display(sp.Eq(C_ss, C_ss_solved_2))\n",
    "display(sp.Eq(I_ss, I_ss_solved_2))\n",
    "display(sp.Eq(K_ss, K_ss_solved_2))\n",
    "display(sp.Eq(N_ss, N_ss_solved_2))\n",
    "display(sp.Eq(L_ss, L_ss_solved_2))"
   ]
  },
  {
   "cell_type": "markdown",
   "id": "447f694d",
   "metadata": {},
   "source": [
    "Sympy gives an easy way to wrap these equations into a function we can evaluate for whatever parameter values we like"
   ]
  },
  {
   "cell_type": "code",
   "execution_count": 20,
   "id": "a31b9468",
   "metadata": {},
   "outputs": [
    {
     "data": {
      "text/plain": [
       "{r_ss: 0.055408163265306176,\n",
       " w_ss: 1.6134732143531099,\n",
       " Y_ss: 0.7945524526013914,\n",
       " C_ss: 0.6289255794707245,\n",
       " I_ss: 0.1656268731306656,\n",
       " K_ss: 4.732196375161873,\n",
       " N_ss: 0.3299404901843179}"
      ]
     },
     "execution_count": 20,
     "metadata": {},
     "output_type": "execute_result"
    }
   ],
   "source": [
    "f_steady_state = sp.lambdify([alpha, beta, delta, gamma, psi],\n",
    "                            [r_ss_solved,\n",
    "                             w_ss_solved.subs([(r_ss, r_ss_solved)]),\n",
    "                             Y_ss_solved,\n",
    "                             C_ss_solved_2,\n",
    "                             I_ss_solved_2,\n",
    "                             K_ss_solved_2,\n",
    "                             N_ss_solved_2])\n",
    "\n",
    "# Put the output into a dictionary for easy reading\n",
    "dict(zip([r_ss, w_ss, Y_ss, C_ss, I_ss, K_ss, N_ss], \n",
    "         f_steady_state(alpha=0.33, beta=0.98, delta=0.035, gamma=1, psi=1.719)))"
   ]
  },
  {
   "cell_type": "markdown",
   "id": "e82437cb",
   "metadata": {},
   "source": [
    "## Parameter Calibration \n",
    "\n",
    "Calibration of parameters can be done by 1) looking at micro studies, 2) targeting national accounting ratios, or 3) researching estimated posterior parameter values estimated in studies of the same or similar countries.\n",
    "\n",
    "- $\\alpha$ - \n",
    "- $\\beta$ - financial models (consumption CAPM, for example), take $\\frac{1}{\\beta}$ to be the long-term interest rate. That's been about 3% historically in the US, so $\\beta$ can be set to 1 / 1.03 = 0.97.\n",
    "- $\\delta$\n",
    "- $\\gamma$ - The utility funciton is over-parameterized. $\\gamma$ can be set to 1.\n",
    "- $\\psi$ - Target 8 working hours per days, or $N_{ss} = \\frac{8}{24} = \\frac{1}{3}$\n",
    "- $\\rho_A$ - \n",
    "- $\\sigma_A$ -"
   ]
  },
  {
   "cell_type": "markdown",
   "id": "c437db83",
   "metadata": {},
   "source": [
    "## Transversality Condition\n",
    "\n",
    "Transversality is a modeling contrivence to ensure that agents can't borrow infinite money to get infinite consumption. If only it were actually possible to do :("
   ]
  },
  {
   "cell_type": "markdown",
   "id": "b601c590",
   "metadata": {},
   "source": [
    "## Compute Steady State\n",
    "\n",
    "Internally, `model.steady_state` uses a root finding algorithm to get the steady state. We see that it gives almost exactly the same result as the hand-computed steady state above. In the GCN file we calibrated $\\psi$ to make $N_ss = 0.33$. We see that this condition has been satisfed at $\\psi = 1.719$."
   ]
  },
  {
   "cell_type": "code",
   "execution_count": 21,
   "id": "8231c1c8",
   "metadata": {},
   "outputs": [
    {
     "name": "stdout",
     "output_type": "stream",
     "text": [
      "Steady state found! Sum of squared residuals is 3.9651845564799144e-25\n"
     ]
    }
   ],
   "source": [
    "mod_log.steady_state()"
   ]
  },
  {
   "cell_type": "code",
   "execution_count": 22,
   "id": "7e4d7fe9",
   "metadata": {},
   "outputs": [
    {
     "name": "stdout",
     "output_type": "stream",
     "text": [
      "A_ss                    1.000\n",
      "C_ss                    0.629\n",
      "Div_ss                 -0.000\n",
      "I_ss                    0.166\n",
      "K_ss                    4.733\n",
      "L_ss                    0.670\n",
      "N_ss                    0.330\n",
      "TC_ss                  -0.795\n",
      "U_ss                  -57.590\n",
      "Y_ss                    0.795\n",
      "lambda__H_1_ss          2.565\n",
      "lambda__H_2_ss          1.590\n",
      "lambda_ss               1.590\n",
      "mc_ss                   1.000\n",
      "r_ss                    0.055\n",
      "w_ss                    1.613\n",
      "\n",
      "\n",
      "In addition, the following parameter values were calibrated:\n",
      "psi                     1.719\n"
     ]
    }
   ],
   "source": [
    "mod_log.print_steady_state()"
   ]
  },
  {
   "cell_type": "markdown",
   "id": "6d138f2a",
   "metadata": {},
   "source": [
    "Alternatively, we can find the steady state by minimzing the sum of squared residuals of the steady state equations. This is nice because it lets the solver use  2nd derivate information to seek solution. It can be slower, though. For this simple model case, it doesn't matter -- both ways are fast and lead to the correct answer."
   ]
  },
  {
   "cell_type": "code",
   "execution_count": 23,
   "id": "5234e780",
   "metadata": {},
   "outputs": [
    {
     "name": "stdout",
     "output_type": "stream",
     "text": [
      "Steady state found! Sum of squared residuals is 3.9651845564799144e-25\n"
     ]
    }
   ],
   "source": [
    "mod_log.steady_state(method='minimize')"
   ]
  },
  {
   "cell_type": "code",
   "execution_count": 24,
   "id": "5e27e5a9",
   "metadata": {},
   "outputs": [
    {
     "name": "stdout",
     "output_type": "stream",
     "text": [
      "A_ss                    1.000\n",
      "C_ss                    0.629\n",
      "Div_ss                 -0.000\n",
      "I_ss                    0.166\n",
      "K_ss                    4.733\n",
      "L_ss                    0.670\n",
      "N_ss                    0.330\n",
      "TC_ss                  -0.795\n",
      "U_ss                  -57.590\n",
      "Y_ss                    0.795\n",
      "lambda__H_1_ss          2.565\n",
      "lambda__H_2_ss          1.590\n",
      "lambda_ss               1.590\n",
      "mc_ss                   1.000\n",
      "r_ss                    0.055\n",
      "w_ss                    1.613\n",
      "\n",
      "\n",
      "In addition, the following parameter values were calibrated:\n",
      "psi                     1.719\n"
     ]
    }
   ],
   "source": [
    "mod_log.print_steady_state()"
   ]
  },
  {
   "cell_type": "markdown",
   "id": "92f270b1",
   "metadata": {},
   "source": [
    "# CRRA Utility\n",
    "\n",
    "The above analysis used a log intratemporal utility function:\n",
    "\n",
    "$$u_t = \\gamma \\log C_t + \\psi \\log L_t$$\n",
    "\n",
    "Another common utility function is CRRA, defined:\n",
    "\n",
    "$$u_t = \\frac{C_t^{1 - \\sigma_C} - 1}{1 - \\sigma_C} + \\psi \\frac{L_t^{1 - \\sigma_L} - 1}{1 - \\sigma_L}$$\n",
    "\n",
    "This utility function leads to the follow first order conditions:\n",
    "\n",
    "$$\\begin{align}\n",
    "\\lambda_t &= C_t^{-\\sigma_C}\\\\\n",
    "\\lambda_{2,t} &= \\psi L_t^{-\\sigma_L} \\\\\n",
    "\\lambda_{2,t} &= w_t \\lambda_t \\\\\n",
    "\\frac{\\lambda_t}{\\lambda_{t+1}} &= \\beta (1 - \\delta + r_{t+1})\n",
    "\\end{align}$$\n",
    "\n",
    "After simplification we get the demand curve for labor:\n",
    "\n",
    "$$w_t = \\frac{1}{\\psi} L_t^{\\sigma_L} C_t^{-\\sigma_L}$$\n",
    "\n",
    "And the Euler equation:\n",
    "\n",
    "$$ \\left ( \\frac{C_{t+1}}{C_t} \\right )^{\\sigma_C} = \\beta (1 - \\delta + r_{t+1})$$"
   ]
  },
  {
   "cell_type": "markdown",
   "id": "21307a24",
   "metadata": {},
   "source": [
    "## Firm Problem\n",
    "\n",
    "The firm's problem is unchanged, we have the following demand curves:\n",
    "\n",
    "$$\\begin{align} r_t &= \\alpha mc_t \\frac{Y_t}{K_{t-1}} \\\\\n",
    "                w_t &= (1 - \\alpha) mc_t \\frac{Y_t}{N_t} \\end{align}$$\n",
    "                \n",
    "And marginal cost:\n",
    "\n",
    "$$mc_t = \\frac{1}{A_t} \\left (\\frac{r_t}{\\alpha} \\right )^\\alpha \\left (\\frac{w_t}{1 - \\alpha} \\right )^{1 - \\alpha}$$"
   ]
  },
  {
   "cell_type": "markdown",
   "id": "034dedd7",
   "metadata": {},
   "source": [
    "## Steady State\n",
    "\n",
    "From the above system I derive the analytic steady state. Before beginning, I note that the model prices are real prices, and the overall price level of the economy is normalized to 1, such that:\n",
    "\n",
    "$$P_{ss} = 1$$\n",
    "\n",
    "The model assumes perfect competition, so that $mc_t = P_t = 1$.\n",
    "\n",
    "$A_t$ is AR(1) in logs with no trend, so $A_{ss} = 1$.\n",
    "\n",
    "### Price system\n",
    "\n",
    "$$\\begin{align} r_{ss} &= \\frac{1}{\\beta} - (1 - \\delta) \\\\\n",
    "                w_{ss} &= (1 - \\alpha) \\left (\\frac{\\alpha}{r_{ss}} \\right)^{\\frac{\\alpha}{1 - \\alpha}} \\end{align}$$\n",
    "                \n",
    "### Factor Markets\n",
    "#### Capital Markets\n",
    "$$\\begin{align}\n",
    "I_{ss} &= \\delta K_{ss} \\\\\n",
    "K_{ss} &= \\alpha \\frac{Y_{ss}}{r_{ss}} \\\\\n",
    "I_{ss} &= \\alpha \\delta \\frac{Y_{ss}}{r_{ss}}\n",
    "\\end{align}$$\n",
    "\n",
    "#### Labor Market\n",
    "\n",
    "$$\\begin{align}\n",
    "L_{ss}^{\\sigma_L} &= \\psi w_{ss} C_{ss}^{\\sigma_C} \\\\\n",
    "1 &= N_{ss} + L_{ss} \\\\\n",
    "N_{ss} &= (1 - \\alpha) \\frac{Y_{ss}}{w_{ss}} \\\\\n",
    "C_{ss} &= \\left (1 - (1 - \\alpha) \\frac{Y_{ss}}{w_{ss}} \\right )^{\\frac{\\sigma_L}{\\sigma_C}}\\left(\\psi w_{ss} \\right)^{-\\frac{1}{\\sigma_C}}\n",
    "\\end{align}$$\n",
    "\n",
    "### AS-AD Equlibrium\n",
    "\n",
    "$$\\begin{align}\n",
    "Y_{ss} &= C_{ss} + I_{ss} \\\\\n",
    "Y_{ss} &= \\left (1 - (1 - \\alpha) \\frac{Y_{ss}}{w_{ss}} \\right )^{\\frac{\\sigma_L}{\\sigma_C}}\\left(\\psi w_{ss} \\right)^{-\\frac{1}{\\sigma_C}} + \\alpha \\delta \\frac{Y_{ss}}{r_{ss}}\n",
    "\\end{align}$$\n",
    "\n",
    "At this point, it is clear that no analytic steady state is available. This is due to the linear $\\left (1 - (1 - \\alpha) \\frac{Y_{ss}}{w_{ss}} \\right )^{\\frac{\\sigma_L}{\\sigma_C}}$, introduced by the leisure term inside the utility function. We will have to find the steady state via numerical methods."
   ]
  },
  {
   "cell_type": "code",
   "execution_count": 25,
   "id": "3f75fcd9",
   "metadata": {
    "scrolled": true
   },
   "outputs": [
    {
     "name": "stdout",
     "output_type": "stream",
     "text": [
      "Model Building Complete.\n",
      "Found:\n",
      "\t14 equations\n",
      "\t14 variables\n",
      "\tThe following \"variables\" were defined as constants and have been substituted away:\n",
      "\t\tmc_t\n",
      "\t1 stochastic shock\n",
      "\t\t 0 / 1 has a defined prior. \n",
      "\t6 parameter\n",
      "\t\t 0 / 6 has a defined prior. \n",
      "\t1 calibrating equation\n",
      "\t1 parameter to calibrate\n",
      " Model appears well defined and ready to proceed to solving.\n",
      "\n",
      "Steady state found! Sum of squared residuals is 4.242047945474882e-23\n"
     ]
    }
   ],
   "source": [
    "mod_crra = ge.gEconModel('rbc_crra_utility.gcn')\n",
    "mod_crra.steady_state()"
   ]
  },
  {
   "cell_type": "code",
   "execution_count": 26,
   "id": "3068a6ee",
   "metadata": {},
   "outputs": [
    {
     "name": "stdout",
     "output_type": "stream",
     "text": [
      "A_ss                    1.000\n",
      "C_ss                    0.629\n",
      "Div_ss                 -0.000\n",
      "I_ss                    0.166\n",
      "K_ss                    4.733\n",
      "L_ss                    0.670\n",
      "N_ss                    0.330\n",
      "TC_ss                  -0.795\n",
      "U_ss                  -61.837\n",
      "Y_ss                    0.795\n",
      "lambda__H_1_ss          3.234\n",
      "lambda_ss               2.004\n",
      "r_ss                    0.055\n",
      "w_ss                    1.613\n",
      "\n",
      "\n",
      "In addition, the following parameter values were calibrated:\n",
      "psi                     1.452\n"
     ]
    }
   ],
   "source": [
    "mod_crra.print_steady_state()"
   ]
  },
  {
   "cell_type": "markdown",
   "id": "0c739afa",
   "metadata": {},
   "source": [
    "# Comparison of Steady States"
   ]
  },
  {
   "cell_type": "code",
   "execution_count": 27,
   "id": "c6e699fd",
   "metadata": {},
   "outputs": [],
   "source": [
    "def compare_steady_states(models, names, precision=3):\n",
    "    all_keys = set()\n",
    "    for model in models:\n",
    "        all_keys = all_keys.union(set(list(model.steady_state_dict.keys())))\n",
    "    \n",
    "    all_calibration = set()\n",
    "    for model in models:\n",
    "        all_calibration = all_calibration.union(set(list(model.calib_param_dict.keys())))\n",
    "    \n",
    "    header = ' ' * 15 + ''.join([f'{name:>16}' for name in names])\n",
    "    print(header)\n",
    "    print('-' * len(header))\n",
    "\n",
    "    for key in all_keys:\n",
    "        line = f'{key:<15}'\n",
    "        for model in models:\n",
    "            if key in model.steady_state_dict.keys():\n",
    "                value = '{:>15.{}f}'.format(model.steady_state_dict[key], precision)\n",
    "            else:\n",
    "                value = f'{\"---\":>15}'\n",
    "            line += value \n",
    "        print(line)\n",
    "    print('\\n')\n",
    "    print('Calibrated parameters')\n",
    "    print('-'* 50)\n",
    "    for key in all_calibration:\n",
    "        line = f'{key:<15}'\n",
    "        for model in models:\n",
    "            if key in model.calib_param_dict.keys():\n",
    "                value = '{:>15.{}f}'.format(model.calib_param_dict[key], precision)\n",
    "            else:\n",
    "                value = f'{\"---\":>15}'\n",
    "            line += value \n",
    "        print(line)\n",
    "    \n",
    "    "
   ]
  },
  {
   "cell_type": "markdown",
   "id": "c14845e3",
   "metadata": {},
   "source": [
    "Steady state values remain the same between the two specifications, but this is due to calibration of the $\\psi$ parameter setting $N_{ss} = 0.33$ in both cases. "
   ]
  },
  {
   "cell_type": "code",
   "execution_count": 28,
   "id": "fe07626a",
   "metadata": {},
   "outputs": [
    {
     "name": "stdout",
     "output_type": "stream",
     "text": [
      "                    Log Utility    CRRA Utility\n",
      "-----------------------------------------------\n",
      "A_ss                    1.0000         1.0000\n",
      "w_ss                    1.6135         1.6135\n",
      "K_ss                    4.7330         4.7330\n",
      "lambda__H_2_ss          1.5897            ---\n",
      "L_ss                    0.6700         0.6700\n",
      "I_ss                    0.1657         0.1657\n",
      "lambda__H_1_ss          2.5650         3.2340\n",
      "N_ss                    0.3300         0.3300\n",
      "lambda_ss               1.5897         2.0044\n",
      "r_ss                    0.0554         0.0554\n",
      "C_ss                    0.6290         0.6290\n",
      "TC_ss                  -0.7947        -0.7947\n",
      "Div_ss                 -0.0000        -0.0000\n",
      "Y_ss                    0.7947         0.7947\n",
      "mc_ss                   1.0000            ---\n",
      "U_ss                  -57.5899       -61.8367\n",
      "\n",
      "\n",
      "Calibrated parameters\n",
      "--------------------------------------------------\n",
      "psi                     1.7185         1.4518\n"
     ]
    }
   ],
   "source": [
    "compare_steady_states([mod_log, mod_crra], ['Log Utility', 'CRRA Utility'], 4)"
   ]
  },
  {
   "cell_type": "code",
   "execution_count": null,
   "id": "fc2a2ffa",
   "metadata": {},
   "outputs": [],
   "source": []
  }
 ],
 "metadata": {
  "kernelspec": {
   "display_name": "Python 3 (ipykernel)",
   "language": "python",
   "name": "python3"
  },
  "language_info": {
   "codemirror_mode": {
    "name": "ipython",
    "version": 3
   },
   "file_extension": ".py",
   "mimetype": "text/x-python",
   "name": "python",
   "nbconvert_exporter": "python",
   "pygments_lexer": "ipython3",
   "version": "3.10.10"
  },
  "toc": {
   "base_numbering": 1,
   "nav_menu": {},
   "number_sections": true,
   "sideBar": true,
   "skip_h1_title": false,
   "title_cell": "Table of Contents",
   "title_sidebar": "Contents",
   "toc_cell": false,
   "toc_position": {},
   "toc_section_display": true,
   "toc_window_display": false
  }
 },
 "nbformat": 4,
 "nbformat_minor": 5
}
